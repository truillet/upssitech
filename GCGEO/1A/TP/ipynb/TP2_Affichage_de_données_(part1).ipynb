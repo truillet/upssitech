{
 "cells": [
  {
   "cell_type": "markdown",
   "metadata": {
    "id": "Man49CEPDb9h"
   },
   "source": [
    "# TP2 - 1A GCGEO\n",
    "2024-2025"
   ]
  },
  {
   "cell_type": "code",
   "execution_count": null,
   "metadata": {
    "id": "j6rvAlKmEIgK"
   },
   "outputs": [],
   "source": [
    "import math\n",
    "import matplotlib.pyplot as plt\n",
    "import numpy as np"
   ]
  },
  {
   "cell_type": "markdown",
   "metadata": {
    "id": "h3BDYlOKE6VA"
   },
   "source": [
    "## Librairies\n",
    "\n"
   ]
  },
  {
   "cell_type": "markdown",
   "metadata": {
    "id": "pjbt3HEwG07Q"
   },
   "source": [
    "### Math\n",
    "\n",
    "Math permet d'utiliser des fonctions communes aux mathématiques telles que\n",
    " *cos(x)*, *sin(x)*, *ceil(x)* (plus petit entier égal ou supérieur à x),\n",
    "\n",
    "*   *cos(x)*, *sin(x)*, *tan(x)*\n",
    "*   *acos(x)*, *asin(x)*, *atan2(x)*\n",
    "*   *exp(x)*, *log(x, [base])*\n",
    "*   *pow(x, y)* : x à la puissance y\n",
    "*   *ceil(x)* : plus petit entier égal ou supérieur à x\n",
    "*   *floor(x)* : plus petit entier égal ou inférieur à x\n",
    "\n",
    "Elle permet aussi d'utiliser les valeurs de certains constantes\n",
    "*   *math.pi* : π\n",
    "*   *math.e* : ₑ"
   ]
  },
  {
   "cell_type": "code",
   "execution_count": null,
   "metadata": {
    "colab": {
     "base_uri": "https://localhost:8080/"
    },
    "id": "pwCAFUUeFh9x",
    "outputId": "47b2139d-b524-4160-b8bb-bf4a93bbcafa"
   },
   "outputs": [
    {
     "name": "stdout",
     "output_type": "stream",
     "text": [
      "3.141592653589793\n",
      "-1.2246467991473533e-15\n"
     ]
    }
   ],
   "source": [
    "print(math.pi)\n",
    "\n",
    "print(math.sin(math.pi * 10))"
   ]
  },
  {
   "cell_type": "markdown",
   "metadata": {
    "id": "vYc1L_nlHBUE"
   },
   "source": [
    "### Matplotlib\n",
    "\n",
    "C'est la libraire permettant l'affichage de données.\n",
    "\n",
    "\n",
    "\n",
    "*   *plt.plot(x, y, label=\"y = f(x)\")* : Trace la courbe y = f(x)\n",
    "*   *plt.title(\"Fonctions\")* : Ajoute un titre au graphique\n",
    "*   *plt.xlabel('time')* : Nomme l'axe x : \"time\"\n",
    "*   *plt.ylabel('Watt')* : Nomme l'axe y : \"Watt\"\n",
    "*   *plt.legend()* : Ajoute la legende\n",
    "*   *plt.grid(True)* : Ajoute la grille\n",
    "*   *plt.show()* : Affiche le graphique"
   ]
  },
  {
   "cell_type": "markdown",
   "metadata": {
    "id": "CzwBVeusDmYf"
   },
   "source": [
    "## Excercice 1 : Fonctions trigonométriques\n",
    "\n",
    "Afficher dans une même fenêtre les fonctions *cos(x)*, *sin(x)* entre 0 et 2π"
   ]
  },
  {
   "cell_type": "code",
   "execution_count": null,
   "metadata": {
    "id": "q9UicD_pEWok"
   },
   "outputs": [],
   "source": [
    "# Générer les valeurs de x entre 0 et 2*pi\n"
   ]
  },
  {
   "cell_type": "code",
   "execution_count": null,
   "metadata": {
    "id": "rQtvtDmqEaRU"
   },
   "outputs": [],
   "source": [
    "# Calculer les valeurs de cos(x) et sin(x)\n"
   ]
  },
  {
   "cell_type": "code",
   "execution_count": null,
   "metadata": {
    "id": "f2iEOU4UD58B"
   },
   "outputs": [],
   "source": [
    "# Tracer les deux courbes\n"
   ]
  },
  {
   "cell_type": "markdown",
   "metadata": {
    "id": "-5yTzPh7I5bt"
   },
   "source": [
    "## Exercice 2 : Affichage de subplots"
   ]
  },
  {
   "cell_type": "markdown",
   "metadata": {
    "id": "QHqnhqbtJLf2"
   },
   "source": [
    "Afficher sur deux graphes disposés l'un à côté de l'autre les fonctions *cos(x)* et *sin(x)*"
   ]
  },
  {
   "cell_type": "code",
   "execution_count": null,
   "metadata": {
    "id": "vfXI-IitJHcb"
   },
   "outputs": [],
   "source": [
    "fig, (ax1, ax2) = plt.subplots(1, 2, figsize=(12, 6))\n",
    "\n",
    "# Premier graphique : sin(x)\n",
    "\n",
    "\n",
    "# Deuxième graphique : cos(x)\n",
    "\n",
    "\n",
    "# Afficher les deux graphes côte à côte\n"
   ]
  },
  {
   "cell_type": "markdown",
   "metadata": {
    "id": "DWBRrQhRbQYW"
   },
   "source": [
    "## Exercice 3 : Le Papillon de T. Fay (1989)\n",
    "Ecrire le programme qui trace le \"papillon de T.Fay\", courbe paramétrée en coordonnées polaires pour le paramètre **theta** variant de 0 à 2π    \n",
    "$\\mathrm r = {e}^{cos(theta)} - 2 cos(4 theta)$.    \n",
    "   \n",
    "   **Nota** : penser à repasser en coordonnées cartésiennes avant d'afficher la courbe !"
   ]
  },
  {
   "cell_type": "code",
   "execution_count": null,
   "metadata": {
    "id": "vpeKTmlndIwO"
   },
   "outputs": [],
   "source": [
    "# Calculer les valeurs de theta\n"
   ]
  },
  {
   "cell_type": "code",
   "execution_count": null,
   "metadata": {
    "id": "3i3VcugCdPk_"
   },
   "outputs": [],
   "source": [
    "# Calculer les valeurs de r(theta) pour chaque theta\n"
   ]
  },
  {
   "cell_type": "code",
   "execution_count": null,
   "metadata": {
    "id": "PKs2ZY1CdP0G"
   },
   "outputs": [],
   "source": [
    "# Convertir les coordonnées polaires en coordonnées cartésiennes pour le tracé\n"
   ]
  },
  {
   "cell_type": "code",
   "execution_count": null,
   "metadata": {
    "id": "evnp_yavdTn2"
   },
   "outputs": [],
   "source": [
    "# Créer le graphique\n"
   ]
  },
  {
   "cell_type": "markdown",
   "metadata": {
    "id": "Kp8bCOXXeAL9"
   },
   "source": [
    "## Exercice 4 : Dichotomie & racine\n",
    "Supposons une fonction $f(x) = e^ {3x} - x^2$.   \n",
    "**La clé de la recherche des racines repose sur l'existence d'un encadrement préalable de cette racine.**   \n",
    "S'il existe un couple $(a,b)$ tel que le produit $f(a)f(b) < 0$ et si la fonction est continue, le théorme de la valeur intermédiaire nous dit que la fonction s'annule au moins une fois à l'intérieur de cet intervalle.   \n",
    "La méthode de dichotomie est une méthode qui ne peut pas échouer, mais sa rapidité de convergence n'est pas la meilleure en comparaison avec d'autres méthodes.   \n",
    "Le principe de cette méthode est le suivant : soit une fonction f monotone sur un intervalle $[a0, b0]$\n",
    "telle que $f(a_0)f(b_0) < 0$. On sait alors qu’il existe une et une seule racine comprise dans cet\n",
    "intervalle. L´algorithme de la méthode de dichotomie est la suivante :\n",
    "Tout d’abord, on calcule $f(\\frac{a_0 + b_0}{2})$\n",
    "- Si $f(\\frac{a_0 + b_0}{2}).f(a_0) < 0$, on définit un nouvel encadrement de la racine par le couple $(a_1, b_1)$ tel que :\n",
    "    - $a_1 = a_0$\n",
    "    - $b_1 = \\frac{a_0 + b_0}{2}$\n",
    "- Si $f(\\frac{a_0 + b_0}{2}).f(a_0) > 0$, on définit un nouvel encadrement de la racine par le couple $(a_1, b_1)$ tel que :\n",
    "    - $a_1 = \\frac{a_0 + b_0}{2}$\n",
    "    - $b_1 = b_0$"
   ]
  },
  {
   "cell_type": "markdown",
   "metadata": {
    "id": "oo_Wl5ygf1WW"
   },
   "source": [
    "**Ecrire un programme qui :**\n",
    "\n",
    "- Demande à l’utilisateur d’entrer les valeurs d’un intervalle $[a_0, b_0]$ ainsi que le nombre N\n",
    "d’itérations de calcul et qui indique si la racine se trouve ou non dans cet intervalle.\n",
    "- Donne la valeur approchée de la racine après les N itérations\n",
    "- Affiche sous forme de graphique la courbe centrée sur la racine trouvée."
   ]
  },
  {
   "cell_type": "markdown",
   "metadata": {
    "id": "asoIpvTzf4uP"
   },
   "source": [
    "Modifier le programme afin de donner la valeur approchée de la racine lorsque la différence entre les bornes $a_n$ et $b_n$ devient inférieure à une certaine précision et qui sera demandée à l’opérateur.\n",
    "Dans l’algorithme, il y a une opération que l’on répète tout le temps…\n",
    "Comment pourrions nous résoudre ce problème ? Coder la solution"
   ]
  },
  {
   "cell_type": "code",
   "execution_count": null,
   "metadata": {
    "id": "aAxEVYFGf52y"
   },
   "outputs": [],
   "source": [
    "def f(x):\n",
    "  return math.exp(3*x) - math.pow(x,2)"
   ]
  },
  {
   "cell_type": "code",
   "execution_count": null,
   "metadata": {
    "id": "X-RGJ58ggCRg"
   },
   "outputs": [],
   "source": [
    "a0 = float(input(\"Entrez la borne inférieure a0 de l'intervalle : \"))\n",
    "b0 = float(input(\"Entrez la borne supérieure b0 de l'intervalle : \"))\n",
    "N = int(input(\"Entrez le nombre d'itérations N : \"))"
   ]
  },
  {
   "cell_type": "code",
   "execution_count": null,
   "metadata": {
    "id": "Got6O4_GgLj4"
   },
   "outputs": [],
   "source": [
    " # Dichotomie\n"
   ]
  },
  {
   "cell_type": "code",
   "execution_count": null,
   "metadata": {
    "id": "L7EZqeSfgspA"
   },
   "outputs": [],
   "source": [
    "# Affichage de la fonction et de la racine\n"
   ]
  },
  {
   "cell_type": "markdown",
   "metadata": {
    "id": "1XmAxwp7i67H"
   },
   "source": [
    "## Exercice 5 - Calcul du cosinus par série entière\n",
    "Ecrire un programme qui demande à l’utilisateur un entier naturel non nul n et un réel x permettant de calculer une approximation de la valeur de la fonction $cos(x)$ en ne conservant que les $n$ premiers termes du développement en série entière :\n",
    "\n",
    "$$\n",
    "cos(x) = 1 - \\frac{x^2}{2!} + ... + (-1)^k\\frac{x^{2k}}{(2k)!} + ...\n",
    "$$\n",
    "\n",
    "Comparer graphiquement les différents résultats obtenus avec ceux de la fonction $cos(x)$ de Matplotlib pour 1, 5 puis 20 termes de calculs."
   ]
  },
  {
   "cell_type": "code",
   "execution_count": null,
   "metadata": {
    "id": "yd91WV6bjDzR"
   },
   "outputs": [],
   "source": []
  },
  {
   "cell_type": "code",
   "execution_count": null,
   "metadata": {
    "id": "IZh6tDqMjs5Y"
   },
   "outputs": [],
   "source": []
  },
  {
   "cell_type": "code",
   "execution_count": null,
   "metadata": {
    "id": "MRS3J1Qkjy3y"
   },
   "outputs": [],
   "source": [
    "fig, ((ax1, ax2), (ax3, ax4)) = plt.subplots(2, 2, figsize=(12, 6))\n",
    "\n",
    "# Afficher les deux graphes côte à côte\n",
    "plt.show()"
   ]
  }
 ],
 "metadata": {
  "colab": {
   "provenance": []
  },
  "kernelspec": {
   "display_name": "Python 3 (ipykernel)",
   "language": "python",
   "name": "python3"
  },
  "language_info": {
   "codemirror_mode": {
    "name": "ipython",
    "version": 3
   },
   "file_extension": ".py",
   "mimetype": "text/x-python",
   "name": "python",
   "nbconvert_exporter": "python",
   "pygments_lexer": "ipython3",
   "version": "3.12.0"
  }
 },
 "nbformat": 4,
 "nbformat_minor": 4
}
