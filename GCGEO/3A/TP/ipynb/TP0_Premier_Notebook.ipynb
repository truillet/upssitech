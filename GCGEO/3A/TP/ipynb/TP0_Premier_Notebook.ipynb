{
 "cells": [
  {
   "cell_type": "markdown",
   "metadata": {
    "id": "mSR38CvezUWM",
    "jp-MarkdownHeadingCollapsed": true
   },
   "source": [
    "# TP0 - 3A GCGEO\n",
    "2025-2026"
   ]
  },
  {
   "cell_type": "markdown",
   "metadata": {
    "id": "JyG45Qk3qQLS"
   },
   "source": [
    "# Cellules\n",
    "Un carnet est une liste de cellules. Les cellules contiennent soit du texte explicatif, soit du code exécutable et sa sortie. Cliquez sur une cellule pour la sélectionner."
   ]
  },
  {
   "cell_type": "markdown",
   "metadata": {
    "id": "KR921S_OQSHG"
   },
   "source": [
    "## Cellules de code\n",
    "Vous trouverez ci-dessous une **cellule de code**. Une fois que le bouton de la barre d'outils indique CONNECTED, cliquez dans la cellule pour la sélectionner et exécutez le contenu de la manière suivante :\n",
    "\n",
    "* Cliquez sur l'icône **Jouer** à gauche de la cellule ;\n",
    "* Tapez **Cmd/Ctrl+Entrée** pour exécuter la cellule en place ;\n",
    "* Tapez **Shift+Enter** pour exécuter la cellule et déplacer le focus sur la cellule suivante (en ajouter une s'il n'y en a pas) ; ou\n",
    "* Tapez **Alt+Enter** pour exécuter la cellule et insérer une nouvelle cellule de code immédiatement en dessous.\n",
    "\n",
    "Le menu **Exécution** offre des options supplémentaires pour l'exécution de certaines ou de toutes les cellules."
   ]
  },
  {
   "cell_type": "code",
   "execution_count": null,
   "metadata": {
    "cellView": "both",
    "colab": {
     "height": 35
    },
    "id": "WUtu4316QSHL",
    "outputId": "67bdf0c3-d76f-4226-fc34-a2f2d0eba60b"
   },
   "outputs": [
    {
     "data": {
      "text/plain": [
       "10"
      ]
     },
     "execution_count": 0,
     "metadata": {
      "tags": []
     },
     "output_type": "execute_result"
    }
   ],
   "source": [
    "a = 10\n",
    "a"
   ]
  },
  {
   "cell_type": "markdown",
   "metadata": {
    "id": "Id6tDF1HQSHD"
   },
   "source": [
    "## Cellules de texte\n",
    "Il s'agit d'une **cellule de texte**. Vous pouvez **double-cliquer** pour éditer cette cellule. Les cellules de texte\n",
    "utilisent la syntaxe markdown. Pour en savoir plus, consultez notre [markdown\n",
    "(/notebooks/markdown_guide.ipynb).\n",
    "\n",
    "Vous pouvez également ajouter des mathématiques aux cellules de texte en utilisant [LaTeX](http://www.latex-project.org/)\n",
    "qui seront rendues par [MathJax](https://www.mathjax.org). Il suffit de placer l'énoncé\n",
    "à l'intérieur d'une paire de signes **\\$**. Par exemple, `$\\sqrt{3x-1}+(1+x)^2$` devient\n",
    "$\\sqrt{3x-1}+(1+x)^2.$"
   ]
  },
  {
   "cell_type": "markdown",
   "metadata": {
    "id": "7bqjkGKwQSHW"
   },
   "source": [
    "## Ajouter et déplacer des cellules\n",
    "Vous pouvez ajouter de nouvelles cellules en utilisant les boutons **+ CODE** et **+ TEXTE** qui s'affichent lorsque vous passez entre les cellules. Ces boutons se trouvent également dans la barre d'outils au-dessus du bloc-notes, où ils peuvent être utilisés pour ajouter une cellule sous la cellule actuellement sélectionnée.\n",
    "\n",
    "Vous pouvez déplacer une cellule en la sélectionnant et en cliquant sur **Cellule en haut** ou **Cellule en bas** dans la barre d'outils supérieure.\n",
    "\n",
    "Les cellules consécutives peuvent être sélectionnées par \"sélection au lasso\" en les faisant glisser de l'extérieur d'une cellule à travers le groupe.  Les cellules non adjacentes peuvent être sélectionnées simultanément en cliquant sur l'une d'entre elles et en maintenant la touche Ctrl enfoncée tout en cliquant sur une autre.  De même, l'utilisation de la touche Maj au lieu de la touche Ctrl permet de sélectionner toutes les cellules intermédiaires."
   ]
  },
  {
   "cell_type": "markdown",
   "metadata": {
    "id": "GOwlZRXEQSHZ"
   },
   "source": [
    "# Travailler avec python\n",
    "Colab est construit sur [Jupyter Notebook] (https://jupyter.org/). Voici quelques exemples de fonctions de commodité fournies."
   ]
  },
  {
   "cell_type": "markdown",
   "metadata": {
    "id": "RVuqWUXPQSHa"
   },
   "source": [
    "Les processus python en cours d'exécution depuis longtemps peuvent être interrompus. Exécutez la cellule suivante et sélectionnez **Exécution -> Interromptre l'exécution** (*hotkey : Cmd/Ctrl-M I*) pour arrêter l'exécution."
   ]
  },
  {
   "cell_type": "markdown",
   "metadata": {
    "id": "d-S-3nYLQSHb"
   },
   "source": [
    "import time\n",
    "print(\"Sleeping\")\n",
    "time.sleep(30) # sleep for a while; interrupt me!\n",
    "print(\"Done Sleeping\")"
   ]
  },
  {
   "cell_type": "markdown",
   "metadata": {
    "id": "aro-UJgUQSH1"
   },
   "source": [
    "# Intégration avec Drive\n",
    "\n",
    "Colab est intégré à Google Drive. Il vous permet de partager, commenter et collaborer sur le même document avec plusieurs personnes :\n",
    "\n",
    "* Le bouton **Partager** (en haut à droite de la barre d'outils) vous permet de partager le carnet de notes et de contrôler les permissions qui lui sont attribuées.\n",
    "\n",
    "* Fichier->**Faire une copie** crée une copie du carnet dans Drive.\n",
    "\n",
    "* Fichier->**Enregistrer** enregistre le fichier dans le lecteur.   \n",
    "* Fichier->**Enregistrer et point de contrôle** épingle la version pour qu'elle ne soit pas supprimée de l'historique des révisions.\n",
    "\n",
    "* Fichier->**Historique des révisions** affiche l'historique des révisions du carnet."
   ]
  },
  {
   "cell_type": "markdown",
   "metadata": {
    "id": "4hfV37gxpP_c"
   },
   "source": [
    "## Commenter une cellule\n",
    "Vous pouvez commenter un notebook Colab comme vous le feriez pour un document Google. Les commentaires sont attachés aux cellules, et sont affichés à côté de la cellule à laquelle ils se réfèrent. Si vous avez des permissions **commentaires uniquement**, vous verrez un bouton de commentaire en haut à droite de la cellule lorsque vous la survolez.\n",
    "\n",
    "Si vous avez des droits d'édition ou de commentaire, vous pouvez commenter une cellule de l'une des trois façons suivantes :\n",
    "\n",
    "1. Sélectionnez une cellule et cliquez sur le bouton de commentaire dans la barre d'outils au-dessus du coin supérieur droit de la cellule.\n",
    "1. Cliquez avec le bouton droit de la souris sur une cellule de texte et sélectionnez **Ajouter un commentaire** dans le menu contextuel.\n",
    "3. Utilisez le raccourci **Ctrl+Shift+M** pour ajouter un commentaire à la cellule sélectionnée.\n",
    "\n",
    "Vous pouvez résoudre les commentaires et y répondre, et vous pouvez cibler des commentaires sur des collaborateurs spécifiques en tapant *+[adresse électronique]* (par exemple, `+user@domain.com`). Les collaborateurs visés recevront un courrier électronique.\n",
    "\n",
    "Le bouton Commentaire dans le coin supérieur droit de la page affiche tous les commentaires attachés au carnet."
   ]
  }
 ],
 "metadata": {
  "colab": {
   "provenance": []
  },
  "kernelspec": {
   "display_name": "Python 3 (ipykernel)",
   "language": "python",
   "name": "python3"
  },
  "language_info": {
   "codemirror_mode": {
    "name": "ipython",
    "version": 3
   },
   "file_extension": ".py",
   "mimetype": "text/x-python",
   "name": "python",
   "nbconvert_exporter": "python",
   "pygments_lexer": "ipython3",
   "version": "3.12.0"
  }
 },
 "nbformat": 4,
 "nbformat_minor": 4
}
