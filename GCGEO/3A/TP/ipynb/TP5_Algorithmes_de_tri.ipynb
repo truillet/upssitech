{
 "cells": [  
{
   "cell_type": "markdown",
   "metadata": {
    "id": "Cgl0PSqp5P0i"
   },
   "source": [
    "#### TP5/6 GCGEO"
   ]
  },  
  {
   "cell_type": "code",
   "execution_count": null,
   "metadata": {
    "id": "ri_skBa1Idm3"
   },
   "outputs": [],
   "source": [
    "import random"
   ]
  },
  {
   "cell_type": "markdown",
   "metadata": {
    "id": "tvh83LKkIM7r"
   },
   "source": [
    "## Exercice 1 - Fonction de génération de tableaux\n",
    "Ecrire la fonction *Genere_Tableau(n)* qui génère un tableau de $n$ valeurs entières aléatoires entre 0 et 100 000"
   ]
  },
  {
   "cell_type": "code",
   "execution_count": null,
   "metadata": {
    "id": "923xMeLtIMtS"
   },
   "outputs": [],
   "source": [
    "def Genere_Tableau(n):\n",
    "    return T"
   ]
  },
  {
   "cell_type": "code",
   "execution_count": null,
   "metadata": {
    "colab": {
     "base_uri": "https://localhost:8080/"
    },
    "id": "qqbdwibsIHtb",
    "outputId": "7d6c6dc0-d3cf-4d3d-e793-67fe87f39c00"
   },
   "outputs": [
    {
     "name": "stdout",
     "output_type": "stream",
     "text": [
      "[3645, 20940, 87825, 73819, 15133, 24588, 45530, 67858, 68339, 34161]\n"
     ]
    }
   ],
   "source": [
    "T = Genere_Tableau(10)\n",
    "print(T)"
   ]
  },
  {
   "cell_type": "markdown",
   "metadata": {
    "id": "9RK8uIz-Ilnr"
   },
   "source": [
    "## Exercice 2 - Fonction d'insertion d'élément\n",
    "Comme vu dans le TD 5, programmez la fonction *Inserer_Element(T, p_init, p_fin)* qui réalise l’insertion d’un élément à partir d’un tableau de nombre entiers, d’un indice de position initiale (p_init) et d’un indice de position finale (p_fin)."
   ]
  },
  {
   "cell_type": "code",
   "execution_count": null,
   "metadata": {
    "id": "3tBtjvKYIlX7"
   },
   "outputs": [],
   "source": [
    "def Inserer_Element(T, p_init, p_fin):\n",
    "   \n",
    "    return T"
   ]
  },
  {
   "cell_type": "code",
   "execution_count": null,
   "metadata": {
    "colab": {
     "base_uri": "https://localhost:8080/"
    },
    "id": "Mgj8GiFUKu1j",
    "outputId": "eee13a49-e67f-4205-aac1-efc46ed403b9"
   },
   "outputs": [
    {
     "name": "stdout",
     "output_type": "stream",
     "text": [
      "[8941, 13374, 19005, 20867, 55357, 65977, 79426, 90541, 93102, 34802]\n"
     ]
    },
    {
     "data": {
      "text/plain": [
       "[8941, 13374, 20867, 19005, 55357, 65977, 79426, 90541, 93102, 34802]"
      ]
     },
     "execution_count": 36,
     "metadata": {},
     "output_type": "execute_result"
    }
   ],
   "source": [
    "print(T)\n",
    "Inserer_Element(T, 2, 3)"
   ]
  },
  {
   "cell_type": "markdown",
   "metadata": {
    "id": "KAAwbjl7RuKL"
   },
   "source": [
    "## Exercice 3 - Fonction de verification du tri\n",
    "Ecrivez une fonction Check_Tri(T) qui renvoie $vrai$ si le tableau T est trié. $Faux$ sinon"
   ]
  },
  {
   "cell_type": "code",
   "execution_count": null,
   "metadata": {
    "id": "0ybOD2baRt2K"
   },
   "outputs": [],
   "source": [
    "def Check_Tri(T):\n",
    "    "
   ]
  },
  {
   "cell_type": "markdown",
   "metadata": {
    "id": "Cno4o40FLgM9"
   },
   "source": [
    "##### Exercice 4 - Tri par insertion\n",
    "Comme vu dans le TD 5, programmez une fonction qui réalise le tri par insertion d’un tableau."
   ]
  },
  {
   "cell_type": "code",
   "execution_count": null,
   "metadata": {
    "id": "wTgVlPCGL6D_"
   },
   "outputs": [],
   "source": [
    "def Tri_Insertion(T):\n",
    "  \n",
    "  return T"
   ]
  },
  {
   "cell_type": "code",
   "execution_count": null,
   "metadata": {
    "colab": {
     "base_uri": "https://localhost:8080/"
    },
    "id": "zqQea-lcL8IL",
    "outputId": "00ddd9a3-ec96-4b51-efb8-4b27276b9387"
   },
   "outputs": [
    {
     "name": "stdout",
     "output_type": "stream",
     "text": [
      "[3846, 57255, 95142, 61844, 1390, 69223, 20806, 71502, 69218, 45256]\n",
      "[1390, 3846, 20806, 45256, 57255, 61844, 69218, 69223, 71502, 95142]\n",
      "True\n",
      "CPU times: user 248 µs, sys: 0 ns, total: 248 µs\n",
      "Wall time: 218 µs\n"
     ]
    }
   ],
   "source": [
    "%%time\n",
    "T = Genere_Tableau(10)\n",
    "print(T)\n",
    "print(Tri_Insertion(T))\n",
    "print(Check_Tri(Tri_Insertion(T)))"
   ]
  },
  {
   "cell_type": "markdown",
   "metadata": {
    "id": "yBDmeWFeNAmW"
   },
   "source": [
    "## Exercice 5 - Tri par sélection"
   ]
  },
  {
   "cell_type": "code",
   "execution_count": null,
   "metadata": {
    "id": "AL5jeVZqNDtk"
   },
   "outputs": [],
   "source": [
    "def Tri_Selection(T):\n",
    "  \n",
    "  return T"
   ]
  },
  {
   "cell_type": "code",
   "execution_count": null,
   "metadata": {
    "colab": {
     "base_uri": "https://localhost:8080/"
    },
    "id": "xJT_NXiwNSMs",
    "outputId": "1fcd9e04-7d8f-4ab3-9156-17f4e9cbc1f7"
   },
   "outputs": [
    {
     "name": "stdout",
     "output_type": "stream",
     "text": [
      "[95429, 75781, 17083, 50027, 27543, 86013, 42135, 35149, 95995, 19377]\n",
      "[17083, 19377, 27543, 35149, 42135, 50027, 75781, 86013, 95429, 95995]\n",
      "True\n",
      "CPU times: user 230 µs, sys: 0 ns, total: 230 µs\n",
      "Wall time: 235 µs\n"
     ]
    }
   ],
   "source": [
    "%%time\n",
    "T = Genere_Tableau(10)\n",
    "print(T)\n",
    "print(Tri_Selection(T))\n",
    "print(Check_Tri(Tri_Selection(T)))"
   ]
  },
  {
   "cell_type": "markdown",
   "metadata": {
    "id": "vKT_1ej3RDdK"
   },
   "source": [
    "## Exercice 6 - Tri à bulles\n",
    "Ecrivez la fonction Tri_A_Bulles définie par l’algorithme suivant\n",
    "```\n",
    "fonction t=Tri_A_Bulles(tableau t)\n",
    "\ttaille = taille(t)\n",
    "\tpour i de taille à 1\n",
    "\t\tpour j de 2 à i\n",
    "\t\t\tsi t[j-1]>t[j] alors\n",
    "\t\t\t\techanger ([j-1] et t[j]\n",
    "\t\t\tfinsi\n",
    "\t\tfinpour\n",
    "\tfinpour\n",
    "fin\n",
    "```"
   ]
  },
  {
   "cell_type": "code",
   "execution_count": null,
   "metadata": {
    "id": "ZiOU4lh7RUH5"
   },
   "outputs": [],
   "source": [
    "def Tri_A_Bulles(T):\n",
    "  \n",
    "  return T\n"
   ]
  },
  {
   "cell_type": "code",
   "execution_count": null,
   "metadata": {
    "colab": {
     "base_uri": "https://localhost:8080/"
    },
    "id": "h_tj9DP-RnFu",
    "outputId": "d6a275b1-519a-48df-ef91-fbda646de052"
   },
   "outputs": [
    {
     "name": "stdout",
     "output_type": "stream",
     "text": [
      "[42627, 25498, 90203, 19563, 28764, 83336, 34927, 97070, 61585, 78848]\n",
      "[19563, 25498, 28764, 34927, 42627, 61585, 78848, 83336, 90203, 97070]\n",
      "True\n",
      "CPU times: user 298 µs, sys: 18 µs, total: 316 µs\n",
      "Wall time: 260 µs\n"
     ]
    }
   ],
   "source": [
    "%%time\n",
    "T = Genere_Tableau(10)\n",
    "print(T)\n",
    "print(Tri_A_Bulles(T))\n",
    "print(Check_Tri(Tri_A_Bulles(T)))"
   ]
  },
  {
   "cell_type": "markdown",
   "metadata": {
    "id": "SH4Zl_7_Shem"
   },
   "source": [
    "## Exercice 7 - Tri Rapide\n",
    "Ecrivez les fonction *partitionner*, *tri_rapide*, et *tri_r*, définies par les algorithmes suivants :\n",
    "\n",
    "```c\n",
    "fonction [p, t] = Partitionner(tableau t, premier, dernier)\n",
    " pivot = t[premier] ;\n",
    " p = premier ;\n",
    " pour i de premier+1 à dernier\n",
    "\t si t[i] <= pivot alors\n",
    "\t\t p = p+1 ;\n",
    "\t\t échanger t[i] et t[p]\n",
    "\t finsi\n",
    " finpour\n",
    "\n",
    " échanger t[premier] et t[p]\n",
    "fin\n",
    "```\n",
    "\n",
    "```c\n",
    "fonction t = Tri_Rapide(tableau t, premier, dernier)\n",
    " début\n",
    " si premier < dernier alors\n",
    "\t [pivot, t] = partitionner(t, premier, dernier)\n",
    "\t t = tri_rapide(t,premier,pivot-1)\n",
    "\t t= tri_rapide(t,pivot+1,dernier)\n",
    " fin si\n",
    " fin\n",
    "```\n",
    "\n",
    "```c\n",
    "fonction t= Tri_Quicksort(tableau t)\n",
    " taille = taille(t);\n",
    " t = tri_rapide(t, 1, taille);\n",
    "fin\n",
    "```"
   ]
  },
  {
   "cell_type": "code",
   "execution_count": null,
   "metadata": {
    "id": "dDWAlzg4Sg5p"
   },
   "outputs": [],
   "source": [
    "def  partitionner(T, premier, dernier):\n",
    "  \n",
    "  return T, p"
   ]
  },
  {
   "cell_type": "code",
   "execution_count": null,
   "metadata": {
    "id": "mHZme1-5TDl4"
   },
   "outputs": [],
   "source": [
    "def Tri_Rapide(T, premier, dernier):\n",
    "  \n",
    "  return T"
   ]
  },
  {
   "cell_type": "code",
   "execution_count": null,
   "metadata": {
    "id": "M_u3KakITLn1"
   },
   "outputs": [],
   "source": [
    "def Tri_Quicksort(T):\n",
    "  n = len(T)\n",
    "  return Tri_Rapide(T, 0, n)"
   ]
  },
  {
   "cell_type": "code",
   "execution_count": null,
   "metadata": {
    "colab": {
     "base_uri": "https://localhost:8080/"
    },
    "id": "6BtyZ7I9TQ36",
    "outputId": "5d115976-629c-492a-add5-d132257f2434"
   },
   "outputs": [
    {
     "name": "stdout",
     "output_type": "stream",
     "text": [
      "[17970, 89257, 72433, 12947, 9020, 87780, 14696, 26902, 37203, 84519]\n",
      "[12947, 14696, 9020, 17970, 37203, 26902, 72433, 84519, 87780, 89257]\n",
      "True\n",
      "CPU times: user 1.44 ms, sys: 0 ns, total: 1.44 ms\n",
      "Wall time: 1.34 ms\n"
     ]
    }
   ],
   "source": [
    "%%time\n",
    "T = Genere_Tableau(10)\n",
    "print(T)\n",
    "print(Tri_Quicksort(T))\n",
    "print(Check_Tri(Tri_Quicksort(T)))"
   ]
  },
  {
   "cell_type": "markdown",
   "metadata": {
    "id": "aJUhtioKTcDk"
   },
   "source": [
    "## Exercice 8 - Comparaison des quatres méthodes de tri\n",
    "Les méthodes de tri seront évaluées au moyen de deux variables : le nombre d’éléments à trier et le temps nécessaire pour réorganiser le tableau (utilisez time)\n",
    "\n",
    "```python\n",
    "import time\n",
    "start = time.time()\n",
    "## Votre code ici\n",
    "end = time.time()\n",
    "print(end - start)\n",
    "```\n",
    "\n",
    "Il vous est demandé d’évaluer ces quatre méthodes de tri pour des tableaux de taille de $50$ à $1050$ éléments aléatoires en augmentant à chaque itération la taille du tableau de $100$ éléments.\n",
    "A chaque fois, vous devrez créer un tableau de la taille demandée avec des valeurs générées aléatoirement. Ce tableau devra alors être trié successivement avec les quatre méthodes de tri. Pour chaque taille de tableau, les tris seront évalués $10$ fois chacun afin de voir si le temps d’exécution varie selon les éléments.\n",
    "Vous générerez aussi un tableau déjà trié et un tableau trié de manière inverse et effectuerez les mêmes opérations que précédemment.\n",
    "\n",
    "Les résultats d’évaluation seront présentées :\n",
    "\n",
    "- **sous la forme d’un tableau**\n",
    "\n",
    "- **sous la forme d'un graphique 2D**"
   ]
  },
  {
   "cell_type": "code",
   "execution_count": null,
   "metadata": {
    "id": "tMYCwh86TaRB"
   },
   "outputs": [],
   "source": [
    "import time\n",
    "\n",
    "numberOfEvaluation = 10\n",
    "lenghtArrayToTest = [50 + 100*n for n in range(20)]\n",
    "\n",
    "V = []\n",
    "\n",
    "for n in lenghtArrayToTest:\n",
    "\n",
    "  for i in range(numberOfEvaluation):\n",
    "    T = Genere_Tableau(n)\n",
    "    # Tri par Insertion\n",
    " \n",
    "    # Tri par Selection\n",
    " \n",
    "    # Tri a Bulles\n",
    "\n",
    "    # Tri rapide\n",
    " \n"
   ]
  },
  {
   "cell_type": "code",
   "execution_count": null,
   "metadata": {
    "colab": {
     "base_uri": "https://localhost:8080/",
     "height": 447
    },
    "id": "y1hpAbsHVAoW",
    "outputId": "6e0793ab-cc21-44a4-e0a6-44028d235065"
   },
   "outputs": [
    {
     "data": {
      "text/plain": [
       "<matplotlib.legend.Legend at 0x7910ad5982b0>"
      ]
     },
     "execution_count": 118,
     "metadata": {},
     "output_type": "execute_result"
    },
    {
     "data": {
      "image/png": "[encoded data removed]",
      "text/plain": [
       "<Figure size 640x480 with 1 Axes>"
      ]
     },
     "metadata": {},
     "output_type": "display_data"
    }
   ],
   "source": [
    "import matplotlib.pyplot as plt\n",
    "import numpy as np\n",
    "\n",
    "plt.figure()\n",
    "V = np.array(V)\n",
    "y_TriInsertion = V[:,1]\n",
    "y_TriSelection = V[:,2]\n",
    "y_TriBulles = V[:,3]\n",
    "y_TriRapide = V[:,4]\n",
    "x = V[:,0]\n",
    "\n",
    "plt.plot(x, y_TriInsertion)\n",
    "plt.plot(x, y_TriSelection)\n",
    "plt.plot(x, y_TriBulles)\n",
    "plt.plot(x, y_TriRapide)\n",
    "plt.legend(['Tri par Insertion', 'Tri par Selection', 'Tri a Bulles', 'Tri rapide'])"
   ]
  }
 ],
 "metadata": {
  "colab": {
   "provenance": []
  },
  "kernelspec": {
   "display_name": "Python 3 (ipykernel)",
   "language": "python",
   "name": "python3"
  },
  "language_info": {
   "codemirror_mode": {
    "name": "ipython",
    "version": 3
   },
   "file_extension": ".py",
   "mimetype": "text/x-python",
   "name": "python",
   "nbconvert_exporter": "python",
   "pygments_lexer": "ipython3",
   "version": "3.12.0"
  }
 },
 "nbformat": 4,
 "nbformat_minor": 4
}
