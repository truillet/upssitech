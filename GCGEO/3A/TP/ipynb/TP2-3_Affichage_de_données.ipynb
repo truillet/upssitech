{
 "cells": [
  {
   "cell_type": "markdown",
   "metadata": {
    "id": "Man49CEPDb9h"
   },
   "source": [
    "###### TP2-3 GCGEO"
   ]
  },
  {
   "cell_type": "code",
   "execution_count": null,
   "metadata": {
    "id": "j6rvAlKmEIgK"
   },
   "outputs": [],
   "source": [
    "import math\n",
    "import matplotlib.pyplot as plt\n",
    "import numpy as np"
   ]
  },
  {
   "cell_type": "markdown",
   "metadata": {
    "id": "h3BDYlOKE6VA"
   },
   "source": [
    "## Librairies\n",
    "\n"
   ]
  },
  {
   "cell_type": "markdown",
   "metadata": {
    "id": "pjbt3HEwG07Q"
   },
   "source": [
    "### Math\n",
    "\n",
    "Math permet d'utiliser des fonctions communes aux mathématiques telles que\n",
    " *cos(x)*, *sin(x)*, *ceil(x)* (plus petit entier égal ou supérieur à x),\n",
    "\n",
    "*   *cos(x)*, *sin(x)*, *tan(x)*\n",
    "*   *acos(x)*, *asin(x)*, *atan2(x)*\n",
    "*   *exp(x)*, *log(x, [base])*\n",
    "*   *pow(x, y)* : x à la puissance y\n",
    "*   *ceil(x)* : plus petit entier égal ou supérieur à x\n",
    "*   *floor(x)* : plus petit entier égal ou inférieur à x\n",
    "\n",
    "Elle permet aussi d'utiliser les valeurs de certains constantes\n",
    "*   *math.pi* : π\n",
    "*   *math.e* : ₑ"
   ]
  },
  {
   "cell_type": "code",
   "execution_count": null,
   "metadata": {
    "colab": {
     "base_uri": "https://localhost:8080/"
    },
    "id": "pwCAFUUeFh9x",
    "outputId": "003eef8b-f8fb-4ac2-b3fd-4c73ac0f6f1b"
   },
   "outputs": [
    {
     "name": "stdout",
     "output_type": "stream",
     "text": [
      "3.141592653589793\n",
      "-1.2246467991473533e-15\n"
     ]
    }
   ],
   "source": [
    "print(math.pi)\n",
    "\n",
    "print(math.sin(math.pi * 10))"
   ]
  },
  {
   "cell_type": "markdown",
   "metadata": {
    "id": "vYc1L_nlHBUE"
   },
   "source": [
    "### Matplotlib\n",
    "\n",
    "C'est la libraire permettant l'affichage de données.\n",
    "\n",
    "\n",
    "\n",
    "*   *plt.plot(x, y, label=\"y = f(x)\")* : Trace la courbe y = f(x)\n",
    "*   *plt.title(\"Fonctions\")* : Ajoute un titre au graphique\n",
    "*   *plt.xlabel('time')* : Nomme l'axe x : \"time\"\n",
    "*   *plt.ylabel('Watt')* : Nomme l'axe y : \"Watt\"\n",
    "*   *plt.legend()* : Ajoute la legende\n",
    "*   *plt.grid(True)* : Ajoute la grille\n",
    "*   *plt.show()* : Affiche le graphique"
   ]
  },
  {
   "cell_type": "markdown",
   "metadata": {
    "id": "CzwBVeusDmYf"
   },
   "source": [
    "## Excercice 1 : Fonctions trigonométriques\n",
    "\n",
    "Afficher dans une même fenêtre les fonctions *cos(x)*, *sin(x)* entre 0 et 2π"
   ]
  },
  {
   "cell_type": "code",
   "execution_count": null,
   "metadata": {
    "id": "8d1EbIebaMGs"
   },
   "outputs": [],
   "source": []
  },
  {
   "cell_type": "markdown",
   "metadata": {
    "id": "rDOB5KOQ0UVS"
   },
   "source": [
    "**Afficher une courbe**\n",
    "```python\n",
    "# Tracer les deux courbes\n",
    "plt.figure()\n",
    "plt.plot(x, y, label='f(x)')\n",
    "plt.title('Un super titre')\n",
    "plt.xlabel('x')\n",
    "plt.ylabel('Valeur')\n",
    "plt.legend()\n",
    "plt.grid(True)\n",
    "plt.show()\n",
    "```"
   ]
  },
  {
   "cell_type": "code",
   "execution_count": null,
   "metadata": {
    "id": "q9UicD_pEWok"
   },
   "outputs": [],
   "source": [
    "# Générer les valeurs de x entre 0 et 2*pi\n",
    "# Votre code ici !"
   ]
  },
  {
   "cell_type": "code",
   "execution_count": null,
   "metadata": {
    "id": "rQtvtDmqEaRU"
   },
   "outputs": [],
   "source": [
    "# Calculer les valeurs de cos(x) et sin(x)\n",
    "# Votre code ici !"
   ]
  },
  {
   "cell_type": "code",
   "execution_count": null,
   "metadata": {
    "id": "f2iEOU4UD58B"
   },
   "outputs": [],
   "source": [
    "# Tracer les deux courbes\n",
    "# Votre code ici !"
   ]
  },
  {
   "cell_type": "markdown",
   "metadata": {
    "id": "-5yTzPh7I5bt"
   },
   "source": [
    "## Exercice 2 : Affichage de subplots"
   ]
  },
  {
   "cell_type": "markdown",
   "metadata": {
    "id": "QHqnhqbtJLf2"
   },
   "source": [
    "Afficher sur deux graphes disposés l'un à côté de l'autre les fonctions *cos(x)* et *sin(x)*"
   ]
  },
  {
   "cell_type": "markdown",
   "metadata": {
    "id": "erRzQrVN2ktW"
   },
   "source": [
    "**Afficher 2 graphes côte à côte**\n",
    "\n",
    "```python\n",
    "plt.figure()\n",
    "\n",
    "plt.subplot(2, 1, 1) # On defini une grille 2 x 1 et on prend la premiere case\n",
    "plt.plot(x_values, y1, color='blue', label='f1(x)')\n",
    "plt.title('Graphique 1')\n",
    "plt.xlabel('x')\n",
    "plt.ylabel('y1')\n",
    "\n",
    "# Deuxième graphique : cos(x)\n",
    "plt.subplot(2, 1, 2) # On defini une grille 2 x 1 et on prend la deuxieme case\n",
    "plt.plot(x_values, y2, color='red', label='f2(x)')\n",
    "plt.title('Graphique 2')\n",
    "plt.xlabel('x')\n",
    "plt.ylabel('y2')\n",
    "\n",
    "plt.tight_layout()  # Ajuster la disposition\n",
    "plt.show()\n",
    "```"
   ]
  },
  {
   "cell_type": "code",
   "execution_count": null,
   "metadata": {
    "id": "vfXI-IitJHcb"
   },
   "outputs": [],
   "source": [
    "# Premier graphique : sin(x)\n",
    "# Votre code ici !\n",
    "\n",
    "# Deuxième graphique : cos(x)\n",
    "# Votre code ici !\n",
    "\n",
    "# Afficher les deux graphes côte à côte\n",
    "# Votre code ici !"
   ]
  },
  {
   "cell_type": "markdown",
   "metadata": {
    "id": "DWBRrQhRbQYW"
   },
   "source": [
    "## Exercice 3 : Le Papillon de T.Fay (1989)\n",
    "Ecrire le programme qui trace le \"papillon de T.Fay\", courbe paramétrée en coordonnées polaires pour le paramètre **theta** variant de 0 à 2π    \n",
    "$\\mathrm r = {e}^{cos(theta)} - 2 cos(4 theta)$.    \n",
    "   \n",
    "   **Nota**: penser à repasser en coordonnées cartésiennes avant d'afficher la courbe !"
   ]
  },
  {
   "cell_type": "code",
   "execution_count": null,
   "metadata": {
    "id": "vpeKTmlndIwO"
   },
   "outputs": [],
   "source": [
    "# Calculer les valeurs de theta\n",
    "# Votre code ici !"
   ]
  },
  {
   "cell_type": "code",
   "execution_count": null,
   "metadata": {
    "id": "3i3VcugCdPk_"
   },
   "outputs": [],
   "source": [
    "# Calculer les valeurs de r(theta) pour chaque theta\n",
    "# Votre code ici !"
   ]
  },
  {
   "cell_type": "code",
   "execution_count": null,
   "metadata": {
    "id": "PKs2ZY1CdP0G"
   },
   "outputs": [],
   "source": [
    "# Convertir les coordonnées polaires en coordonnées cartésiennes pour le tracé\n",
    "# Votre code ici !"
   ]
  },
  {
   "cell_type": "code",
   "execution_count": null,
   "metadata": {
    "id": "evnp_yavdTn2"
   },
   "outputs": [],
   "source": [
    "# Créer le graphique\n",
    "# Votre code ici !"
   ]
  },
  {
   "cell_type": "markdown",
   "metadata": {
    "id": "Kp8bCOXXeAL9"
   },
   "source": [
    "## Exercice 4 : Dichotomie & racine\n",
    "Supposons une fonction $f(x) = e^ {3x} - x^2$.   \n",
    "**La clé de la recherche des racines repose sur l'existence d'un encadrement préalable de cette racine.**   \n",
    "S'il existe un couple $(a,b)$ tel que le produit $f(a)f(b) < 0$ et si la fonction est continue, le théorme de la valeur intermédiaire nous dit que la fonction s'annule au moins une fois à l'intérieur de cet intervalle.   \n",
    "La méthode de dichotomie est une méthode qui ne peut pas échouer, mais sa rapidité de convergence n'est pas la meilleure en comparaison avec d'autres méthodes.   \n",
    "Le principe de cette méthode est le suivant : soit une fonction f monotone sur un intervalle $[a0, b0]$\n",
    "telle que $f(a_0)f(b_0) < 0$. On sait alors qu’il existe une et une seule racine comprise dans cet\n",
    "intervalle. L´algorithme de la méthode de dichotomie est la suivante :\n",
    "Tout d’abord, on calcule $f(\\frac{a_0 + b_0}{2})$\n",
    "- Si $f(\\frac{a_0 + b_0}{2}).f(a_0) < 0$, on définit un nouvel encadrement de la racine par le couple $(a_1, b_1)$ tel que :\n",
    "    - $a_1 = a_0$\n",
    "    - $b_1 = \\frac{a_0 + b_0}{2}$\n",
    "- Si $f(\\frac{a_0 + b_0}{2}).f(a_0) > 0$, on définit un nouvel encadrement de la racine par le couple $(a_1, b_1)$ tel que :\n",
    "    - $a_1 = \\frac{a_0 + b_0}{2}$\n",
    "    - $b_1 = b_0$"
   ]
  },
  {
   "cell_type": "markdown",
   "metadata": {
    "id": "oo_Wl5ygf1WW"
   },
   "source": [
    "**Ecrire un programme qui :**\n",
    "\n",
    "- Demande à l’utilisateur d’entrer les valeurs d’un intervalle $[a_0, b_0]$ ainsi que le nombre N\n",
    "d’itérations de calcul et qui indique si la racine se trouve ou non dans cet intervalle.\n",
    "- Donne la valeur approchée de la racine après les N itérations\n",
    "- Affiche sous forme de graphique la courbe centrée sur la racine trouvée."
   ]
  },
  {
   "cell_type": "markdown",
   "metadata": {
    "id": "asoIpvTzf4uP"
   },
   "source": [
    "Modifier le programme afin de donner la valeur approchée de la racine lorsque la différence entre les bornes $a_n$ et $b_n$ devient inférieure à une certaine précision et qui sera demandée à l’opérateur.\n",
    "Dans l’algorithme, il y a une opération que l’on répète tout le temps…\n",
    "Comment pourrions nous résoudre ce problème ? Coder la solution"
   ]
  },
  {
   "cell_type": "markdown",
   "metadata": {
    "id": "TGibgwYo1ick"
   },
   "source": [
    "**Créer une liste de N points entre a et b (numpy)**\n",
    "```python\n",
    "N = 1000\n",
    "x_values = np.linspace(a, b, N)\n",
    "```"
   ]
  },
  {
   "cell_type": "markdown",
   "metadata": {
    "id": "eWCr1Suo12qi"
   },
   "source": [
    "**Créer une liste complete en une ligne**\n",
    "```python\n",
    "y_values = [2*i + 3 for i in range(0, 100)]\n",
    "```\n",
    "\n",
    "Pour i allant de 0 à 100 (exclu), y_values comprend les valeurs $2*i+3$"
   ]
  },
  {
   "cell_type": "code",
   "execution_count": null,
   "metadata": {
    "id": "aAxEVYFGf52y"
   },
   "outputs": [],
   "source": [
    "def f(x):\n",
    "  return math.exp(3*x) - math.pow(x,2)"
   ]
  },
  {
   "cell_type": "code",
   "execution_count": null,
   "metadata": {
    "colab": {
     "base_uri": "https://localhost:8080/"
    },
    "id": "X-RGJ58ggCRg",
    "outputId": "87bca042-779c-4a6e-c5cf-fd85ef8e2124"
   },
   "outputs": [
    {
     "name": "stdout",
     "output_type": "stream",
     "text": [
      "Entrez la borne inférieure a0 de l'intervalle: 2\n",
      "Entrez la borne supérieure b0 de l'intervalle: 4\n",
      "Entrez le nombre d'itérations N: 10\n"
     ]
    }
   ],
   "source": [
    "a0 = float(input(\"Entrez la borne inférieure a0 de l'intervalle: \"))\n",
    "b0 = float(input(\"Entrez la borne supérieure b0 de l'intervalle: \"))\n",
    "N = int(input(\"Entrez le nombre d'itérations N: \"))"
   ]
  },
  {
   "cell_type": "code",
   "execution_count": null,
   "metadata": {
    "id": "Got6O4_GgLj4"
   },
   "outputs": [],
   "source": [
    " # Dichotomie\n",
    "# Votre code ici !"
   ]
  },
  {
   "cell_type": "code",
   "execution_count": null,
   "metadata": {
    "id": "L7EZqeSfgspA"
   },
   "outputs": [],
   "source": [
    "# Affichage de la fonction et de la racine\n",
    "# Votre code ici !"
   ]
  },
  {
   "cell_type": "markdown",
   "metadata": {
    "id": "1XmAxwp7i67H"
   },
   "source": [
    "## Exercice 5 : Calcul du cosinus par série entiere\n",
    "Ecrire un programme qui demande à l’utilisateur un entier naturel non nul n et un réel x permettant de calculer une approximation de la valeur de la fonction $cos(x)$ en ne conservant que les $n$ premiers termes du développement en série entière :\n",
    "\n",
    "$$\n",
    "cos(x) = 1 - \\frac{x^2}{2!} + ... + (-1)^k\\frac{x^{2k}}{(2k)!} + ...\n",
    "$$\n",
    "\n",
    "Comparer graphiquement les différents résultats obtenus avec ceux de la fonction $cos(x)$ de Matplotlib pour 1, 5 puis 20 termes de calculs."
   ]
  },
  {
   "cell_type": "code",
   "execution_count": null,
   "metadata": {
    "id": "yd91WV6bjDzR"
   },
   "outputs": [],
   "source": [
    "def cos_k(x, k):\n",
    "  # Votre code ici !\n",
    "  pass"
   ]
  },
  {
   "cell_type": "code",
   "execution_count": null,
   "metadata": {
    "id": "IZh6tDqMjs5Y"
   },
   "outputs": [],
   "source": [
    "# Votre code ici !"
   ]
  },
  {
   "cell_type": "markdown",
   "metadata": {
    "id": "DANru71K3LpN"
   },
   "source": [
    "## Exercice 6 : Calcul et affichage de racines d'une fonction du second degré\n",
    "Créer une fonction *afficheRacine(poly)* qui permet d’afficher un polynôme du second degré poly et ses racines si elles existent.\n",
    "La fonction du second degré poly sera codée sous forme d’un tableau de ses coefficients.   \n",
    "Par exemple, la fonction $y =2x^2+4x-3$ sera codée $[{2}, {4}, {-3}]$   \n",
    "L’appel à la fonction depuis un script sera donc :\n",
    "\n",
    "```python\n",
    "a = int(input(\"Entrez la valeur de a (ax²+bx+c)\"))\n",
    "b = int(input(\"Entrez la valeur de b (ax²+bx+c)\"))\n",
    "c = int(input(\"Entrez la valeur de c (ax²+bx+c)\"))\n",
    "\n",
    "afficheRacine([a, b, c])\n",
    "```"
   ]
  },
  {
   "cell_type": "code",
   "execution_count": null,
   "metadata": {
    "id": "Eey_E9X93Z2e"
   },
   "outputs": [],
   "source": [
    "# Votre code ici !"
   ]
  },
  {
   "cell_type": "markdown",
   "metadata": {
    "id": "No3QtXEobc0i"
   },
   "source": [
    "## Exercice 7 : Une courbe en 3D\n",
    "Afficher dans l'intervalle $[0,30]$ la fonction $f(x,y,z)$ définie par   \n",
    "$\\begin{cases}x = t\\\\y =sin(t)\\\\z = cos(t)\n",
    "\\end{cases}$"
   ]
  },
  {
   "cell_type": "markdown",
   "metadata": {
    "id": "HVIR8XS-zslt"
   },
   "source": [
    "**Afficher une courbe 3D**\n",
    "\n",
    "```python\n",
    "fig = plt.figure()\n",
    "ax = fig.add_subplot(111, projection='3d')\n",
    "ax.plot(x, y, z, label=\"\")\n",
    "ax.set_xlabel('X')\n",
    "ax.set_ylabel('Y')\n",
    "ax.set_zlabel('Z')\n",
    "ax.set_title(\"Un super titre\")\n",
    "```\n"
   ]
  },
  {
   "cell_type": "code",
   "execution_count": null,
   "metadata": {
    "id": "pwkw4sdYbrOz"
   },
   "outputs": [],
   "source": [
    "# Votre code ici !"
   ]
  },
  {
   "cell_type": "markdown",
   "metadata": {
    "id": "lXpou98b6sH5"
   },
   "source": [
    "## Exercice 8 : une surface en 3D\r\n",
    "Définir la fonction $forme\\_etrange(x,y)$ qui calcule la fonction suivante : \r\n",
    "$$\r\n",
    "z=cos(3.\\sqrt[3]{x^2+y^2})\r\n",
    "$$\r\n",
    " \r\n",
    "Définir une fonction $affichage(bornes)$ où *bornes* contient un vecteur des bornes *min/max* pour l'axe *x* et *y* qui affiche le résultat de l'équation précédente sour forme de surfaxe (fonction **mesh**)\r\n",
    "\r\n",
    "**Nota** : Pensez à générer l'affichage **l'ensemble des points de maillage** en utilisant la fonction  **meshgrid**\r\n",
    "\r\n",
    "```python\r\n",
    "x = np.arrange(0, 1, 0.1)\r\n",
    "y = np.arrange(0, 1, 0.1)\r\n",
    "X,Y = np.meshgrid(x,y)\r\n",
    "````\n",
    " "
   ]
  },
  {
   "cell_type": "code",
   "execution_count": 5,
   "metadata": {},
   "outputs": [],
   "source": [
    "import numpy as np\n",
    "import matplotlib.pyplot as plt\n",
    "from mpl_toolkits.mplot3d import Axes3D"
   ]
  },
  {
   "cell_type": "code",
   "execution_count": 12,
   "metadata": {},
   "outputs": [],
   "source": [
    "def forme_etrange(x,y):\n",
    "    z=np.cos(3*(x**2+y**2)**(1/3))\n",
    "    return z"
   ]
  },
  {
   "cell_type": "code",
   "execution_count": 15,
   "metadata": {},
   "outputs": [
    {
     "data": {
      "image/png": "[encoded data removed]",
      "text/plain": [
       "<Figure size 640x480 with 1 Axes>"
      ]
     },
     "metadata": {},
     "output_type": "display_data"
    }
   ],
   "source": [
    "# Création de la grille \n",
    "x = np.arange(0, 1, 0.1)\n",
    "y = np.arange(0, 1, 0.1)\n",
    "X,Y = np.meshgrid(x,y)\n",
    "# calcul des coordonnées z\n",
    "Z = forme_etrange(X,Y)\n",
    "\n",
    "# création de la figure 3D\n",
    "fig = plt.figure()\n",
    "ax = fig.add_subplot(111, projection='3d')\n",
    "\n",
    "# Représentation graphique de la surface\n",
    "ax.plot_surface(X, Y, Z, cmap='viridis')\n",
    "\n",
    "# Labels des axes\n",
    "ax.set_xlabel('X')\n",
    "ax.set_ylabel('Y')\n",
    "ax.set_zlabel('Z')\n",
    "\n",
    "# Affichage du graphique\n",
    "plt.show()"
   ]
  },
  {
   "cell_type": "markdown",
   "metadata": {
    "id": "lXpou98b6sH5"
   },
   "source": [
    "## Exercice 9 : Des élections\n",
    "Soit le résultat d’une élection mettant aux prises 6 candidats.\n",
    "\n",
    "- Le candidat 1 (Nathalie) obtient : 184 voix\n",
    "- Le candidat 2 (Denis) obtient : 10 voix\n",
    "- Le candidat 3 (Elise) obtient : 166 voix\n",
    "- Le candidat 4 (Louis) obtient : 65 voix\n",
    "- Le candidat 5 (Remi) obtient : 143 voix\n",
    "- Le candidat 6 (Dimitri) obtient : 9 voix\n",
    "\n",
    "Le nombre total d’inscrits à l’élection est de **577**.\n",
    "Afficher les résultats des élections sous forme de barres (*bar* ou *barh*) et sous forme de camembert (*pie*)"
   ]
  },
  {
   "cell_type": "code",
   "execution_count": null,
   "metadata": {
    "id": "RJhSwm3R7Jg2"
   },
   "outputs": [],
   "source": [
    "# Données des candidats\n",
    "# Votre code ici !"
   ]
  },
  {
   "cell_type": "code",
   "execution_count": null,
   "metadata": {
    "id": "SrYya-q77CGn"
   },
   "outputs": [],
   "source": [
    "# Création du graphique à barres horizontales\n",
    "# Votre code ici !"
   ]
  },
  {
   "cell_type": "code",
   "execution_count": null,
   "metadata": {
    "id": "LzUCL0TJ7IQH"
   },
   "outputs": [],
   "source": [
    "# Création du graphique en camembert\n",
    "# Votre code ici !"
   ]
  },
  {
   "cell_type": "markdown",
   "metadata": {
    "id": "Tvn5Uiae9tEu",
    "jp-MarkdownHeadingCollapsed": true
   },
   "source": [
    "## Exercice 10 : Des valeurs en série\n",
    "Nous voulons afficher les valeurs discrètes de la suite de **Fibonacci** dans l’intervalle $[1, 16]$\n",
    "\n",
    "1. écrire la fonction *fibonacci(n)* qui permet de renvoyer une liste des n valeurs successives de la suite de Fibonnacci\n",
    "2. afficher les 16 premières valeurs de manière discrète (*plt.stem()*)\n",
    "\n",
    "\n",
    "**Suite de Fibonacci**   \n",
    "$\\begin{cases} F_1 = F_2 = 1 \\\\F_{n+2} = F_{n+1} +F_n\\end{cases}$"
   ]
  },
  {
   "cell_type": "code",
   "execution_count": null,
   "metadata": {
    "id": "RrcIAB_L-mCK"
   },
   "outputs": [],
   "source": [
    "# Votre code ici !"
   ]
  },
  {
   "cell_type": "markdown",
   "metadata": {
    "id": "BTq_93DR_4mF"
   },
   "source": [
    "## Exercice 11 : Utiliser les données issues de capteurs\n",
    "\n",
    "Nous souhaitons visualiser des données enregistrées par un accéléromètre 3 axes. Téléchargez le fichier ‘*accelero.csv*’ à l’adresse suivante : https://github.com/truillet/upssitech/blob/master/GCGEO/1A/TP/accelero.csv   \n",
    "Le fichier contient les données ($temps, X, Y, Z, thetaX, thetaY, thetaZ$)\n",
    "\n",
    "1. Charger le fichier et définissez les vecteurs $temps, X, Y, Z$ à partir du fichier chargé\n",
    "2. Afficher les fenêtres suivantes : $X, Y$ en fonction de $t$ (en bleu), $X, Z$ en fonction de $t$ (en vert)\n",
    "3. Sauver votre résultat dans un fichier image « *png* »\n",
    "4. Ecrire un script qui permet d’effectuer ces opérations automatiquement"
   ]
  },
  {
   "cell_type": "markdown",
   "metadata": {
    "id": "3Vbl-NP5BYK4"
   },
   "source": [
    "**Charge un fichier *Comma Separated Values (CSV)***\n",
    "```python\n",
    "data = np.loatxt(url, delimiter=\";\")\n",
    "temps = data[:, 0]  # Première colonne: temps\n",
    "X = data[:, 1]      # Deuxième colonne: X\n",
    "Y = data[:, 2]      # Troisième colonne: Y\n",
    "Z = data[:, 3]      # Quatrième colonne: Z\n",
    "```\n",
    "\n",
    "\n",
    "**Sauvegarder un plot**\n",
    "```python\n",
    "plt.savefig(\"image.png\")\n",
    "```"
   ]
  },
  {
   "cell_type": "code",
   "execution_count": null,
   "metadata": {
    "id": "GoQ83MUh_3dj"
   },
   "outputs": [],
   "source": [
    "# Votre code ici !"
   ]
  }
 ],
 "metadata": {
  "colab": {
   "provenance": []
  },
  "kernelspec": {
   "display_name": "Python 3 (ipykernel)",
   "language": "python",
   "name": "python3"
  },
  "language_info": {
   "codemirror_mode": {
    "name": "ipython",
    "version": 3
   },
   "file_extension": ".py",
   "mimetype": "text/x-python",
   "name": "python",
   "nbconvert_exporter": "python",
   "pygments_lexer": "ipython3",
   "version": "3.12.0"
  }
 },
 "nbformat": 4,
 "nbformat_minor": 4
}
