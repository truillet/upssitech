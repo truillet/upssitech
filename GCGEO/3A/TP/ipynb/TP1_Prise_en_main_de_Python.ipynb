{
 "cells": [
  {
   "cell_type": "markdown",
   "metadata": {
    "id": "tgDpAdLEzcDB"
   },
   "source": [
    "# TP1 - 3A GCGEO 2024-2025\n"
   ]
  },
  {
   "cell_type": "markdown",
   "metadata": {
    "id": "h2Jjn68ObTzZ"
   },
   "source": [
    "## 1 Prise en main de Python\n",
    "\n",
    "### 1.1 Les types de données\n",
    "\n",
    "Python est un langage de programmation interprété. Cela signifie que l'interpréteur doit être lancé pour exécuter le code. Dans les boîtes qui suivent, on peut taper du code en langage Python. Il est possible de demander l'exécution de ce code en cliquant sur le bouton \"exécuter\" en haut (run cell).\n",
    "\n",
    "Pour commencer, exécuter la ligne suivante qui permet d'initialiser les bibliothèques"
   ]
  },
  {
   "cell_type": "code",
   "execution_count": null,
   "metadata": {
    "id": "kMr70jF5bTzc"
   },
   "outputs": [],
   "source": [
    "%matplotlib inline\n",
    "\n",
    "from math import *"
   ]
  },
  {
   "cell_type": "markdown",
   "metadata": {
    "id": "Qb1C5C53bTzd"
   },
   "source": [
    "Puis exécuter les exemples suivant."
   ]
  },
  {
   "cell_type": "code",
   "execution_count": null,
   "metadata": {
    "colab": {
     "base_uri": "https://localhost:8080/"
    },
    "id": "MmHSBgU5bTzd",
    "outputId": "a49ce5a2-15e8-4e58-b01a-df8178793556"
   },
   "outputs": [
    {
     "data": {
      "text/plain": [
       "6"
      ]
     },
     "execution_count": 2,
     "metadata": {},
     "output_type": "execute_result"
    }
   ],
   "source": [
    "1 + 2 + 3"
   ]
  },
  {
   "cell_type": "code",
   "execution_count": null,
   "metadata": {
    "colab": {
     "base_uri": "https://localhost:8080/"
    },
    "id": "Am8FRR_0bTze",
    "outputId": "a7aba934-2b76-4b3e-f7ec-23cd28cbd6c9"
   },
   "outputs": [
    {
     "data": {
      "text/plain": [
       "2.0943951023931953"
      ]
     },
     "execution_count": 3,
     "metadata": {},
     "output_type": "execute_result"
    }
   ],
   "source": [
    "2 * pi / 3"
   ]
  },
  {
   "cell_type": "code",
   "execution_count": null,
   "metadata": {
    "canopy_exercise": {
     "cell_type": "<None>"
    },
    "colab": {
     "base_uri": "https://localhost:8080/"
    },
    "id": "sauBo1Q5bTze",
    "outputId": "653745a0-d739-4b54-9162-055981f7a03a"
   },
   "outputs": [
    {
     "data": {
      "text/plain": [
       "3.0"
      ]
     },
     "execution_count": 4,
     "metadata": {},
     "output_type": "execute_result"
    }
   ],
   "source": [
    "(1 + 2 + 3 + 4 + 5) / 5"
   ]
  },
  {
   "cell_type": "code",
   "execution_count": null,
   "metadata": {
    "colab": {
     "base_uri": "https://localhost:8080/"
    },
    "id": "zY4aNXRMbTzf",
    "outputId": "6c179053-f094-417c-f75a-6d6634c28d3b"
   },
   "outputs": [
    {
     "data": {
      "text/plain": [
       "1.4142135623730951"
      ]
     },
     "execution_count": 5,
     "metadata": {},
     "output_type": "execute_result"
    }
   ],
   "source": [
    "sqrt(2)"
   ]
  },
  {
   "cell_type": "code",
   "execution_count": null,
   "metadata": {
    "colab": {
     "base_uri": "https://localhost:8080/"
    },
    "id": "GOftaRqWbTzf",
    "outputId": "edeba647-7de8-4dc4-cec2-fbe347628d62"
   },
   "outputs": [
    {
     "data": {
      "text/plain": [
       "20.085536923187668"
      ]
     },
     "execution_count": 6,
     "metadata": {},
     "output_type": "execute_result"
    }
   ],
   "source": [
    "exp(3)"
   ]
  },
  {
   "cell_type": "code",
   "execution_count": null,
   "metadata": {
    "colab": {
     "base_uri": "https://localhost:8080/"
    },
    "id": "uoE19tm1bTzg",
    "outputId": "7ff45167-3957-4712-f28a-ec6498af64c1"
   },
   "outputs": [
    {
     "data": {
      "text/plain": [
       "2.0"
      ]
     },
     "execution_count": 7,
     "metadata": {},
     "output_type": "execute_result"
    }
   ],
   "source": [
    "exp(log(2))"
   ]
  },
  {
   "cell_type": "markdown",
   "metadata": {
    "id": "4bMQo8iWbTzg"
   },
   "source": [
    "Nous utiliserons les types de données suivants :\n",
    "\n",
    "-   int\n",
    "-   float\n",
    "-   complex\n",
    "-   boolean\n",
    "-   list\n",
    "\n",
    "### 1.1.1 Les entiers\n",
    "\n",
    "Ce type contient la représentation d'un nombre entier relatif. On noter que l'opérateur de division euclidienne se note `//`."
   ]
  },
  {
   "cell_type": "code",
   "execution_count": null,
   "metadata": {
    "colab": {
     "base_uri": "https://localhost:8080/"
    },
    "id": "qo3dAsXLbTzg",
    "outputId": "bbbe7cff-e869-43b9-dc8a-85981dbf71a1"
   },
   "outputs": [
    {
     "data": {
      "text/plain": [
       "int"
      ]
     },
     "execution_count": 8,
     "metadata": {},
     "output_type": "execute_result"
    }
   ],
   "source": [
    "type(3)"
   ]
  },
  {
   "cell_type": "code",
   "execution_count": null,
   "metadata": {
    "colab": {
     "base_uri": "https://localhost:8080/"
    },
    "id": "J_99QM4MbTzh",
    "outputId": "32fd2ddb-51cb-4d3f-e9f0-78584fba2a3a"
   },
   "outputs": [
    {
     "data": {
      "text/plain": [
       "0"
      ]
     },
     "execution_count": 9,
     "metadata": {},
     "output_type": "execute_result"
    }
   ],
   "source": [
    "1 // 2"
   ]
  },
  {
   "cell_type": "markdown",
   "metadata": {
    "id": "ZGlk7d6abTzh"
   },
   "source": [
    "**Exercice** : calculer la somme des 10 premiers entiers non nuls."
   ]
  },
  {
   "cell_type": "code",
   "execution_count": null,
   "metadata": {
    "colab": {
     "base_uri": "https://localhost:8080/"
    },
    "collapsed": true,
    "id": "cnZr2XXXbTzi",
    "jupyter": {
     "outputs_hidden": true
    },
    "outputId": "4e473f21-75a9-44f1-91ba-53555d26d9fe"
   },
   "outputs": [
    {
     "name": "stdout",
     "output_type": "stream",
     "text": [
      "55\n"
     ]
    }
   ],
   "source": [
    "s = sum([i for i in range(1,11)])\n",
    "print(s)"
   ]
  },
  {
   "cell_type": "markdown",
   "metadata": {
    "id": "Ou3rQXnkbTzi"
   },
   "source": [
    "### 1.1.2 Les flottants\n",
    "\n",
    "Ce type contient la représentation d'un nombre réel. La différence avec un `int` tient dans la présence d'un séparateur décimal: le point \"`.`\""
   ]
  },
  {
   "cell_type": "code",
   "execution_count": null,
   "metadata": {
    "colab": {
     "base_uri": "https://localhost:8080/"
    },
    "id": "FHyNLZ0ybTzi",
    "outputId": "aad0cf44-5219-4f14-d681-3d8e4b453e02"
   },
   "outputs": [
    {
     "data": {
      "text/plain": [
       "float"
      ]
     },
     "execution_count": 11,
     "metadata": {},
     "output_type": "execute_result"
    }
   ],
   "source": [
    "type(1.5)"
   ]
  },
  {
   "cell_type": "markdown",
   "metadata": {
    "id": "7K-ovgVmbTzi"
   },
   "source": [
    "La plupart des opérateurs vont convertir en `float` leurs opérandes entières lorsque l'une au moins des opérandes est flottante. La division (non euclidienne) le fait dans tous les cas, même si les deux opérandes sont entières."
   ]
  },
  {
   "cell_type": "code",
   "execution_count": null,
   "metadata": {
    "colab": {
     "base_uri": "https://localhost:8080/"
    },
    "id": "Pe0A5a7kbTzj",
    "outputId": "171a80b8-9cc3-46f1-be17-12b9c2e48819"
   },
   "outputs": [
    {
     "data": {
      "text/plain": [
       "0.5"
      ]
     },
     "execution_count": 12,
     "metadata": {},
     "output_type": "execute_result"
    }
   ],
   "source": [
    "1 / 2"
   ]
  },
  {
   "cell_type": "code",
   "execution_count": null,
   "metadata": {
    "colab": {
     "base_uri": "https://localhost:8080/"
    },
    "id": "Uq1C_Mi_bTzj",
    "outputId": "864f49e1-6537-4c4c-93ed-1ec29ab9e2e3"
   },
   "outputs": [
    {
     "data": {
      "text/plain": [
       "3.0"
      ]
     },
     "execution_count": 13,
     "metadata": {},
     "output_type": "execute_result"
    }
   ],
   "source": [
    "1 + 2.0"
   ]
  },
  {
   "cell_type": "code",
   "execution_count": null,
   "metadata": {
    "colab": {
     "base_uri": "https://localhost:8080/"
    },
    "id": "jE9SH1SKbTzj",
    "outputId": "e894c36d-c6d4-46e0-f391-a59347b68040"
   },
   "outputs": [
    {
     "data": {
      "text/plain": [
       "15.0"
      ]
     },
     "execution_count": 14,
     "metadata": {},
     "output_type": "execute_result"
    }
   ],
   "source": [
    "3.0 * 5"
   ]
  },
  {
   "cell_type": "markdown",
   "metadata": {
    "id": "sTNxI-ZRbTzj"
   },
   "source": [
    "Lorsque le nombre est très petit ou au contraire très grand, il sera affiché en notation scientifique. Le symbole `e` signifie \"*... fois dix puissance ...*\"."
   ]
  },
  {
   "cell_type": "code",
   "execution_count": null,
   "metadata": {
    "colab": {
     "base_uri": "https://localhost:8080/"
    },
    "id": "OdAjZ5C8bTzj",
    "outputId": "5c4fa851-2ff9-444a-9637-810cb70e23c2"
   },
   "outputs": [
    {
     "data": {
      "text/plain": [
       "1e-15"
      ]
     },
     "execution_count": 15,
     "metadata": {},
     "output_type": "execute_result"
    }
   ],
   "source": [
    "0.000000000000001"
   ]
  },
  {
   "cell_type": "code",
   "execution_count": null,
   "metadata": {
    "colab": {
     "base_uri": "https://localhost:8080/"
    },
    "id": "O9oonGfHbTzk",
    "outputId": "f50565d5-09dc-46ee-c7d7-911ead18c747"
   },
   "outputs": [
    {
     "data": {
      "text/plain": [
       "1e+17"
      ]
     },
     "execution_count": 16,
     "metadata": {},
     "output_type": "execute_result"
    }
   ],
   "source": [
    "100000000000000000."
   ]
  },
  {
   "cell_type": "markdown",
   "metadata": {
    "id": "vDCXwoVZbTzk"
   },
   "source": [
    "**Exercice**: calculer $\\sum\\limits_{k=5}^{10}k^2\\cdot10^k$."
   ]
  },
  {
   "cell_type": "code",
   "execution_count": null,
   "metadata": {
    "id": "WQHv6Xj1bTzk"
   },
   "outputs": [],
   "source": [
    "# Ecrire ici !"
   ]
  },
  {
   "cell_type": "markdown",
   "metadata": {
    "id": "8VvLh_OEbTzl"
   },
   "source": [
    "Enfin, lorsqu'on effectue certains calculs dont le résultat est non défini, Python peut renvoyer deux valeurs particulières qui ne correspondent à aucun nombre réel : `nan` (*not a number*) et `inf` (*infinity*)."
   ]
  },
  {
   "cell_type": "code",
   "execution_count": null,
   "metadata": {
    "colab": {
     "base_uri": "https://localhost:8080/",
     "height": 148
    },
    "id": "YcG9jZcHbTzl",
    "outputId": "fcaeddb0-29f1-422c-e60f-90346ff9b6dc"
   },
   "outputs": [
    {
     "ename": "ValueError",
     "evalue": "math domain error",
     "output_type": "error",
     "traceback": [
      "\u001b[0;31m---------------------------------------------------------------------------\u001b[0m",
      "\u001b[0;31mValueError\u001b[0m                                Traceback (most recent call last)",
      "\u001b[0;32m<ipython-input-18-dc0ac523cb01>\u001b[0m in \u001b[0;36m<cell line: 1>\u001b[0;34m()\u001b[0m\n\u001b[0;32m----> 1\u001b[0;31m \u001b[0msqrt\u001b[0m\u001b[0;34m(\u001b[0m\u001b[0;34m-\u001b[0m\u001b[0;36m1\u001b[0m\u001b[0;34m)\u001b[0m\u001b[0;34m\u001b[0m\u001b[0;34m\u001b[0m\u001b[0m\n\u001b[0m",
      "\u001b[0;31mValueError\u001b[0m: math domain error"
     ]
    }
   ],
   "source": [
    "sqrt(-1)"
   ]
  },
  {
   "cell_type": "code",
   "execution_count": null,
   "metadata": {
    "id": "Rodj4GQ8bTzl"
   },
   "outputs": [],
   "source": [
    "1e1000"
   ]
  },
  {
   "cell_type": "code",
   "execution_count": null,
   "metadata": {
    "id": "8TGpqwU6bTzl"
   },
   "outputs": [],
   "source": [
    "type(inf)"
   ]
  },
  {
   "cell_type": "markdown",
   "metadata": {
    "id": "_pZ9lHaKbTzm"
   },
   "source": [
    "### 1.1.3 Les nombres complexes\n",
    "\n",
    "Python fournit également un type pour les calculs avec des nombres complexes. Un nombre complexe se note sous la forme `a + bj` où `a` `b` sont l'écriture de nombres flottants. Ici, `j` désigne le nombre complexe qu'on note $i$ en mathématiques.\n",
    "\n",
    "**Attention** : `j` écrit tout seul n'est pas égal au nombre complexe $i$. Il faut écrire `1j`."
   ]
  },
  {
   "cell_type": "code",
   "execution_count": null,
   "metadata": {
    "id": "Bjzktd98bTzn"
   },
   "outputs": [],
   "source": [
    "1j"
   ]
  },
  {
   "cell_type": "code",
   "execution_count": null,
   "metadata": {
    "id": "z3IGzMacbTzn"
   },
   "outputs": [],
   "source": [
    "type(1 + 2j)"
   ]
  },
  {
   "cell_type": "code",
   "execution_count": null,
   "metadata": {
    "id": "BRl7hxJ6bTzn"
   },
   "outputs": [],
   "source": [
    "1j * 1j"
   ]
  },
  {
   "cell_type": "code",
   "execution_count": null,
   "metadata": {
    "id": "CMp2DDUlbTzn"
   },
   "outputs": [],
   "source": [
    "exp(1j * pi) + 1"
   ]
  },
  {
   "cell_type": "markdown",
   "metadata": {
    "id": "eC2IE0eIbTzo"
   },
   "source": [
    "On peut calculer le module, la partie réelle ou imaginaire ou encore le conjugué d'un nombre complexe."
   ]
  },
  {
   "cell_type": "code",
   "execution_count": null,
   "metadata": {
    "id": "wdtyz4ZbbTzo"
   },
   "outputs": [],
   "source": [
    "abs(3 - 4j)"
   ]
  },
  {
   "cell_type": "code",
   "execution_count": null,
   "metadata": {
    "id": "VrAjfLuqbTzo"
   },
   "outputs": [],
   "source": [
    "(2 + 3j).real"
   ]
  },
  {
   "cell_type": "code",
   "execution_count": null,
   "metadata": {
    "id": "YGwNIIOHbTzo"
   },
   "outputs": [],
   "source": [
    "(2 + 3j).imag"
   ]
  },
  {
   "cell_type": "code",
   "execution_count": null,
   "metadata": {
    "id": "Mg5hscMrbTzo"
   },
   "outputs": [],
   "source": [
    "conj(2 + 3j)"
   ]
  },
  {
   "cell_type": "markdown",
   "metadata": {
    "id": "a_ZnzozjbTzp"
   },
   "source": [
    "**Exercice** : calculer la valeur de $(1+i)(1+2i)(1+3i)(1+4i)$."
   ]
  },
  {
   "cell_type": "code",
   "execution_count": null,
   "metadata": {
    "id": "568hY1aFbTzp"
   },
   "outputs": [],
   "source": [
    "# Ecrire ici !"
   ]
  },
  {
   "cell_type": "markdown",
   "metadata": {
    "id": "ejQL_jGabTzp"
   },
   "source": [
    "### 1.1.4 Les booléens\n",
    "\n",
    "Le type booléen ne peut prendre que deux valeurs: `True` ou `False` (attention à la majuscule). En programmation, on l'utilise pour tester si une condition est vérifiée ou non.\n",
    "\n",
    "**Attention** : pour tester si deux nombres sont égaux, on doit utiliser l'opérateur double signe égal `==`."
   ]
  },
  {
   "cell_type": "code",
   "execution_count": null,
   "metadata": {
    "id": "qaoFOc7HbTzp"
   },
   "outputs": [],
   "source": [
    "0 = 0"
   ]
  },
  {
   "cell_type": "code",
   "execution_count": null,
   "metadata": {
    "id": "pKZTJi8obTzp"
   },
   "outputs": [],
   "source": [
    "0 == 1"
   ]
  },
  {
   "cell_type": "code",
   "execution_count": null,
   "metadata": {
    "id": "SfB1H2ctbTzp"
   },
   "outputs": [],
   "source": [
    "1.0000 == 1"
   ]
  },
  {
   "cell_type": "markdown",
   "metadata": {
    "id": "_9AppkiMbTzq"
   },
   "source": [
    "**Exercice** : parmi les nombres 7642661 et 7642663, lequel est divisible par 13?"
   ]
  },
  {
   "cell_type": "code",
   "execution_count": null,
   "metadata": {
    "id": "I6UFMRPVbTzq"
   },
   "outputs": [],
   "source": [
    "# Ecrire ici !"
   ]
  },
  {
   "cell_type": "markdown",
   "metadata": {
    "id": "FUvTR9NWbTzq"
   },
   "source": [
    "### 1.1.5 Les listes\n",
    "\n",
    "Une liste est une suite de valeurs séparées par des virgules et entourée par des crochets `[` et `]`. Les valeurs à l'intérieur d'une liste peuvent être de types différents. On peut également mettre des listes dans une liste, mais attention à bien respecter la ponctuation et les crochets ..."
   ]
  },
  {
   "cell_type": "code",
   "execution_count": null,
   "metadata": {
    "id": "uyHYq1a5bTzq"
   },
   "outputs": [],
   "source": [
    "type([1, 2, 3])"
   ]
  },
  {
   "cell_type": "code",
   "execution_count": null,
   "metadata": {
    "id": "Jr_HmNedbTzq"
   },
   "outputs": [],
   "source": [
    "[1, 0.5, 1+3j, True]"
   ]
  },
  {
   "cell_type": "code",
   "execution_count": null,
   "metadata": {
    "id": "BzuOH_p-bTzr"
   },
   "outputs": [],
   "source": [
    "[[1, 2, 3], [4, 5, 6]]"
   ]
  },
  {
   "cell_type": "markdown",
   "metadata": {
    "id": "m096-WZ4bTzr"
   },
   "source": [
    "Une liste peut être vide. On récupère le nombre d'éléments d'une liste grâce à la fonction `len`."
   ]
  },
  {
   "cell_type": "code",
   "execution_count": null,
   "metadata": {
    "id": "5iMA4eH2bTzr"
   },
   "outputs": [],
   "source": [
    "len([])"
   ]
  },
  {
   "cell_type": "code",
   "execution_count": null,
   "metadata": {
    "id": "9fVTxoFobTzr"
   },
   "outputs": [],
   "source": [
    "len([1, 2, 0, 7])"
   ]
  },
  {
   "cell_type": "markdown",
   "metadata": {
    "id": "5kaJR_n8bTzr"
   },
   "source": [
    "Les opérateurs `+` et `*` prennent un autre sens lorsqu'on les utilise avec des listes."
   ]
  },
  {
   "cell_type": "code",
   "execution_count": null,
   "metadata": {
    "id": "BG6yIAtGbTzr"
   },
   "outputs": [],
   "source": [
    "[1, 2, 3] + [4, 5, 6] + [7, 8]"
   ]
  },
  {
   "cell_type": "code",
   "execution_count": null,
   "metadata": {
    "id": "VYY0rEBDbTzr"
   },
   "outputs": [],
   "source": [
    "[3, 7] * 5"
   ]
  },
  {
   "cell_type": "markdown",
   "metadata": {
    "id": "ehKYC8RYbTzs"
   },
   "source": [
    "**Exercice** : créer la liste des valeurs prises par $(-1)^k$ pour $k$ variant de 0 à 100."
   ]
  },
  {
   "cell_type": "code",
   "execution_count": null,
   "metadata": {
    "id": "VIFqQkSBbTzs",
    "scrolled": true
   },
   "outputs": [],
   "source": [
    "# Ecrire ici !"
   ]
  },
  {
   "cell_type": "markdown",
   "metadata": {
    "id": "C3uP8yJubTzs"
   },
   "source": [
    "## 1.2 Les opérateurs\n",
    "\n",
    "On a déjà vu les opérateurs `+`, `-`, `*`, `/`. Il en existe d'autres :\n",
    "\n",
    "-   `a ** b` pour calculer $a^b$\n",
    "-   `a % b` pour calculer le reste de la division euclidienne de `a` par `b`\n",
    "-   `a or b` pour tester si une condition **ou** une autre est vérifiée\n",
    "-   `a and b` pour tester si une condition **et** une autre est vérifiée\n",
    "-   `a <= b` pour tester si $a\\leq b$ (ainsi que `<`, `>`, `>=`)\n",
    "-   `a != b` pour tester si $a\\neq b$\n",
    "\n",
    "**Exercice**: créer la liste des 6 premières puissances de 2."
   ]
  },
  {
   "cell_type": "code",
   "execution_count": null,
   "metadata": {
    "id": "T5fOrcVHbTzs"
   },
   "outputs": [],
   "source": [
    "# Ecrire ici !"
   ]
  },
  {
   "cell_type": "markdown",
   "metadata": {
    "id": "gNx2Yzv-bTzs"
   },
   "source": [
    "**Exercice** : le nombre 1710608 est-il un multiple de 11 et de 17 ?"
   ]
  },
  {
   "cell_type": "code",
   "execution_count": null,
   "metadata": {
    "id": "NwrQg5HdbTzt"
   },
   "outputs": [],
   "source": [
    "# Votre code ici !"
   ]
  },
  {
   "cell_type": "markdown",
   "metadata": {
    "id": "OyAdltM8bTzt"
   },
   "source": [
    "**Exercice** : le nombre 1710608 est-il un multiple de 11 ou de 17 ?"
   ]
  },
  {
   "cell_type": "code",
   "execution_count": null,
   "metadata": {
    "id": "CxcC_h2JbTzt"
   },
   "outputs": [],
   "source": [
    "# Votre code ici !"
   ]
  },
  {
   "cell_type": "markdown",
   "metadata": {
    "id": "_qKVfWJ9bTzt"
   },
   "source": [
    "## 1.3 Les fonctions courantes\n",
    "\n",
    "Voici quelques-unes des fonctions proposées par Python. Nous en rencontrerons d'autres par la suite.\n",
    "\n",
    "-   Fonctions numériques :\n",
    "    -   `sin`, `cos`, `tan`\n",
    "    -   `sqrt`, `abs`\n",
    "    -   `exp`, `log`\n",
    "-   Fonctions spécifiques aux listes :\n",
    "    -   `len`\n",
    "    -   `range([min], max, [step])` génère la liste des nombres de `min` à `max` en avançant de `step`. Les arguments entre crochets sont optionnels. S'ils ne sont pas spécifiés, par défaut `min` vaudra 0 et `step` vaudra 1.\n",
    "    \n",
    "        **Attention** :\n",
    "\n",
    "        -   le `max` est à prendre au sens strict, c'est à dire que la liste s'arrêtera toujours avant.\n",
    "        -   la fonction `range` renvoie un type spécial qui n'est pas à proprement parler une liste. Pour obtenir réellement une liste, il faut écrire `list(range(...))`."
   ]
  },
  {
   "cell_type": "code",
   "execution_count": null,
   "metadata": {
    "id": "oyfTBArjbTzt"
   },
   "outputs": [],
   "source": [
    "range(5)"
   ]
  },
  {
   "cell_type": "code",
   "execution_count": null,
   "metadata": {
    "id": "zWP39vlJbTzt"
   },
   "outputs": [],
   "source": [
    "list(range(5))"
   ]
  },
  {
   "cell_type": "code",
   "execution_count": null,
   "metadata": {
    "id": "KFW_v6eHbTzt"
   },
   "outputs": [],
   "source": [
    "list(range(3, 7))"
   ]
  },
  {
   "cell_type": "code",
   "execution_count": null,
   "metadata": {
    "id": "eVuWDuO8bTzu"
   },
   "outputs": [],
   "source": [
    "list(range(5, 0, -1))"
   ]
  },
  {
   "cell_type": "markdown",
   "metadata": {
    "id": "uOlzOk-rbTzu"
   },
   "source": [
    "**Exercice** : créer la liste des entiers de 0 à 20 (inclus) dans l'ordre décroissant."
   ]
  },
  {
   "cell_type": "code",
   "execution_count": null,
   "metadata": {
    "id": "N-WVPQEpbTzu"
   },
   "outputs": [],
   "source": [
    "# Ecrire ici !"
   ]
  },
  {
   "cell_type": "markdown",
   "metadata": {
    "id": "qwfEz_QvbTzu"
   },
   "source": [
    "**Exercice** : créer la liste des 20 premiers entiers impairs."
   ]
  },
  {
   "cell_type": "code",
   "execution_count": null,
   "metadata": {
    "id": "G8KG-SDVbTzu"
   },
   "outputs": [],
   "source": [
    "# Ecrire ici !"
   ]
  },
  {
   "cell_type": "markdown",
   "metadata": {
    "id": "dRZKDwiTbTzu"
   },
   "source": [
    "Il faut également mentionner la fonction `print` qui permet d'afficher le résultat d'un calcul. Jusqu'ici, on avait constaté que seul le résultat du dernier calcul était affiché. Avec `print`, on peut en afficher autant que désiré.\n"
   ]
  },
  {
   "cell_type": "code",
   "execution_count": null,
   "metadata": {
    "id": "ELA1eHo2bTzu"
   },
   "outputs": [],
   "source": [
    "print(1+2)\n",
    "print(3 * 3 == 9)\n",
    "print([1, 2, 3, 4])\n",
    "print(1, 2, 3, 4)"
   ]
  },
  {
   "cell_type": "markdown",
   "metadata": {
    "id": "nBlW9Vz2bTzv"
   },
   "source": [
    "## 1.4 Les variables\n",
    "\n",
    "Une variable est référencée par son nom, qui doit commencer par une lettre suivie de zéro ou plusieurs caractères alphanumériques. Exemples : `x`, `test32`, `v2x`.\n",
    "\n",
    "On *affecte* une valeur à une variable à l'aide de l'opérateur `=`. Une fois qu'une variable a été affectée, on peut l'utiliser dans les calculs.\n",
    "\n",
    "**Attention** : Python fait la différence entre majuscules et minuscules. Par exemple, les noms `a` et `A` représentent des variables différentes."
   ]
  },
  {
   "cell_type": "code",
   "execution_count": null,
   "metadata": {
    "id": "yxES0D4qbTzv"
   },
   "outputs": [],
   "source": [
    "x = 4\n",
    "y = 2\n",
    "\n",
    "print(x / y)\n",
    "print(x ** y)\n",
    "print(x > y)"
   ]
  },
  {
   "cell_type": "markdown",
   "metadata": {
    "id": "Ont6Ik5XbTzv"
   },
   "source": [
    "Losqu'une liste est affectée à une variable, il est possible de la modifier grâce aux fonctions suivantes :\n",
    "\n",
    "-   `list.append(element)` pour ajouter un élément supplémentaire à la fin d'une liste\n",
    "-   `list.insert(index, element)` pour insérer un élément à une position donnée dans la liste\n",
    "    \n",
    "    **Attention** : en Python, l'index du premier élément d'une liste est zéro. Pour insérer un élément en début de liste, il faudra donc prendre `index=0`.\n",
    "-   `list.pop(index)` pour enlever un élément à la liste. Si `index` n'est pas spécifié, ce sera le dernier élément."
   ]
  },
  {
   "cell_type": "code",
   "execution_count": null,
   "metadata": {
    "id": "HINKF3_ebTzv"
   },
   "outputs": [],
   "source": [
    "l = []\n",
    "l.append(13)\n",
    "l = l + [2, 3, 4]\n",
    "l.append(7)\n",
    "print(l)\n",
    "\n",
    "l.pop(3)\n",
    "print(l)"
   ]
  },
  {
   "cell_type": "markdown",
   "metadata": {
    "id": "Kyo7YM4qbTzv"
   },
   "source": [
    "**Exercice** : générer la liste des entiers de 0 à 40 qui ne sont pas multiples de 13"
   ]
  },
  {
   "cell_type": "code",
   "execution_count": null,
   "metadata": {
    "id": "xlcIPVO8bTzv"
   },
   "outputs": [],
   "source": [
    "# Ecrire ici !"
   ]
  },
  {
   "cell_type": "markdown",
   "metadata": {
    "id": "X_FUkZF6bTzv"
   },
   "source": [
    "Les variables de type `list` ont une autre particularité. On peut accéder à un élément à une position donnée en utilisant des crochets :\n",
    "\n",
    "-   pour utiliser sa valeur dans une expression,\n",
    "-   ou pour le modifier avec avec l'opérateur `=`.\n",
    "\n",
    "Là encore, on prendra garde au fait que les éléments sont numérotés en partant de zéro."
   ]
  },
  {
   "cell_type": "code",
   "execution_count": null,
   "metadata": {
    "id": "Wn8UweKKbTzw"
   },
   "outputs": [],
   "source": [
    "l = [1, 2, 3, 4]\n",
    "\n",
    "l[1] = 5\n",
    "print(l)\n",
    "\n",
    "l[3] = l[0]\n",
    "print(l)"
   ]
  },
  {
   "cell_type": "markdown",
   "metadata": {
    "id": "X1nl6HXLbTzw"
   },
   "source": [
    "# 2 Programmer en Python\n",
    "\n",
    "## 2.1 Les structures de contrôle `if`, `for` et `while`\n",
    "\n",
    "### 2.1.1 Branchement conditionnel `if`\n",
    "\n",
    "La syntaxe d'un `if` est la suivante :\n",
    "\n",
    "    if condition:\n",
    "        #Code à effectuer si la condition est vérifiée\n",
    "    else:\n",
    "        #Code à effectuer si la condition n'est pas vérifiée\n",
    "\n",
    "La clause `else` n'est pas obligatoire, dans certains cas on n'en aura pas besoin.\n",
    "\n",
    "**Important** : en Python, tout ce qui se situe à l'intérieur d'un bloc introduit par `:` (c'est le cas de ce qui suit un `if` ou un `else` par exemple) doit impérativement être décalé vers la droite de 4 espaces supplémentaires. Il est **primordial** de respecter cette règle, sinon vos programmes ne fonctionneront pas correctement.\n",
    "\n",
    "**Exercice** : modifier la valeur stockée dans la variable `x` à la première ligne du programme qui suit pour comprendre ce qu'il fait."
   ]
  },
  {
   "cell_type": "code",
   "execution_count": null,
   "metadata": {
    "id": "FmsgWH16bTzw"
   },
   "outputs": [],
   "source": [
    "# Ecrire ici !"
   ]
  },
  {
   "cell_type": "markdown",
   "metadata": {
    "id": "rPm95jTibTzw"
   },
   "source": [
    "### 2.1.2 Boucle `for`\n",
    "\n",
    "La syntaxe d'une boucle `for` est la suivante:\n",
    "\n",
    "    for variable in list:\n",
    "        #Code à répéter\n",
    "\n",
    "**Exercice** : comprendre ce que fait le code suivant."
   ]
  },
  {
   "cell_type": "code",
   "execution_count": null,
   "metadata": {
    "id": "PCmN0cGSbTzw"
   },
   "outputs": [],
   "source": [
    "for k in range(10):\n",
    "    print(k)"
   ]
  },
  {
   "cell_type": "markdown",
   "metadata": {
    "id": "0bSdftlpbTzx"
   },
   "source": [
    "**Exercice** : modifier le programme précédent pour qu'il n'affiche que des chiffres pairs."
   ]
  },
  {
   "cell_type": "code",
   "execution_count": null,
   "metadata": {
    "id": "0fETHelCbTzx"
   },
   "outputs": [],
   "source": [
    "# Ecrire ici !"
   ]
  },
  {
   "cell_type": "markdown",
   "metadata": {
    "id": "WVVRGr3lbTzx"
   },
   "source": [
    "**Exercice** : afficher les 10 premières puissances de 3."
   ]
  },
  {
   "cell_type": "code",
   "execution_count": null,
   "metadata": {
    "id": "bXWTV3G4bTzx"
   },
   "outputs": [],
   "source": [
    "# Ecrire ici !"
   ]
  },
  {
   "cell_type": "markdown",
   "metadata": {
    "id": "4EGdeOVIbTzx"
   },
   "source": [
    "**Exercice** : soit la liste `l` suivante:\n",
    "\n",
    "    l = [1, -13, -15, 9, -5, 18, 32, -7]\n",
    "\n",
    "Afficher tous les éléments de l qui sont négatifs."
   ]
  },
  {
   "cell_type": "code",
   "execution_count": null,
   "metadata": {
    "collapsed": true,
    "id": "ZgPxLrD0bTzx",
    "jupyter": {
     "outputs_hidden": true
    }
   },
   "outputs": [],
   "source": [
    "l = [1, -13, -15, 9, -5, 18, 32, -7]"
   ]
  },
  {
   "cell_type": "code",
   "execution_count": null,
   "metadata": {
    "id": "rfQPWx5IbTzx"
   },
   "outputs": [],
   "source": [
    "# Ecrire ici !"
   ]
  },
  {
   "cell_type": "markdown",
   "metadata": {
    "id": "g5hx0tjEbTzy"
   },
   "source": [
    "Le code itératif suivant permet de créer une liste (ici la liste des racines des 10 premiers entiers).\n",
    "\n",
    "**Important** : cet exemple est à comprendre et à retenir, on utilisera fréquemment des constructions similaires par la suite."
   ]
  },
  {
   "cell_type": "code",
   "execution_count": null,
   "metadata": {
    "id": "jynHHtCWbTzy"
   },
   "outputs": [],
   "source": [
    "l = []\n",
    "for n in range(10):\n",
    "    l.append(sqrt(n))\n",
    "print(l)"
   ]
  },
  {
   "cell_type": "markdown",
   "metadata": {
    "id": "XQUjyZEXbTzy"
   },
   "source": [
    "**Exercice** : Soit la suite $u_n=n^2 - n + 1$ pour $n\\geq 0$. Stocker dans la variable `U` la liste contenant les 50 premières valeurs de $u_n$."
   ]
  },
  {
   "cell_type": "code",
   "execution_count": null,
   "metadata": {
    "id": "vpgRpPVKbTzy"
   },
   "outputs": [],
   "source": [
    "# Ecrire ici !"
   ]
  },
  {
   "cell_type": "markdown",
   "metadata": {
    "id": "2kv4ji7abTzy"
   },
   "source": [
    "### 2.1.3 Boucle `while`\n",
    "\n",
    "La syntaxe est la suivante:\n",
    "\n",
    "    while condition:\n",
    "        #Instructions à répéter jusqu'à ce que la condition ne soit plus remplie\n",
    "\n",
    "**Exercice**: comprendre ce que fait le code suivant:"
   ]
  },
  {
   "cell_type": "code",
   "execution_count": null,
   "metadata": {
    "collapsed": true,
    "id": "bfBCGQvSbTzy",
    "jupyter": {
     "outputs_hidden": true
    }
   },
   "outputs": [],
   "source": [
    "x = 64\n",
    "while x > 0:\n",
    "    x = x // 2\n",
    "    print(x)"
   ]
  },
  {
   "cell_type": "markdown",
   "metadata": {
    "id": "ZvY9h0XWbTzz"
   },
   "source": [
    "**Attention** : on prendra garde à ce que la condition testée s'arrête au bout d'un nombre fini d'itérations. Dans le cas contraire, le programme continue indéfiniment, on parle alors de boucle infinie. Si cela se produit, on peut interrompre l'exécution du programme à l'aide du menu \"*Kernel*\" -> \"*Interrupt*\" ou \"*Kernel*\" -> \"*Restart*\"."
   ]
  },
  {
   "cell_type": "code",
   "execution_count": null,
   "metadata": {
    "collapsed": true,
    "id": "BHQBM5XRbTzz",
    "jupyter": {
     "outputs_hidden": true
    }
   },
   "outputs": [],
   "source": [
    "x = 0\n",
    "while x == 0:\n",
    "    x = 0"
   ]
  },
  {
   "cell_type": "markdown",
   "metadata": {
    "id": "whC-4qp8bTzz"
   },
   "source": [
    "**Exercice** : trouver le premier entier $k\\geq 0$ tel que $k^2-5k+6>10000$."
   ]
  },
  {
   "cell_type": "code",
   "execution_count": null,
   "metadata": {
    "id": "UzMBOjoYbTzz"
   },
   "outputs": [],
   "source": [
    "# Ecrire ici !"
   ]
  }
 ],
 "metadata": {
  "colab": {
   "provenance": []
  },
  "kernelspec": {
   "display_name": "Python 3 (ipykernel)",
   "language": "python",
   "name": "python3"
  },
  "language_info": {
   "codemirror_mode": {
    "name": "ipython",
    "version": 3
   },
   "file_extension": ".py",
   "mimetype": "text/x-python",
   "name": "python",
   "nbconvert_exporter": "python",
   "pygments_lexer": "ipython3",
   "version": "3.12.0"
  }
 },
 "nbformat": 4,
 "nbformat_minor": 4
}
